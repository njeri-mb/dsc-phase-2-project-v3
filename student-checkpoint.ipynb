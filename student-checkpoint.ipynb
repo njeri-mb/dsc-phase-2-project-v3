{
 "cells": [
  {
   "cell_type": "markdown",
   "metadata": {},
   "source": [
    "# Exploratory Data Analysis on the Film industry"
   ]
  },
  {
   "cell_type": "markdown",
   "metadata": {},
   "source": [
    "# Table of Contents\n",
    "1. [Business-understanding](#business-understanding)\n",
    "2. [Data-understanding](#data-understanding)\n",
    "3. [Data-Preparation](#data-preparation)\n",
    "    - [Box-office-Mojo-Data](#box-office-mojo)\n",
    "        - [foreign-gross](#a-cleaning-foreign_gross-column)\n",
    "        - [domestic-gross](#b-handling-missing-data-in-domestic_gross-column)\n",
    "    - [IMDB](#imdb)\n",
    "        - [Movie-basics-table](#1-movie_basics)\n",
    "        - [Movie-ratings-table](#2-movie_ratings)\n",
    "        - [Genre-ratings](#3-genre-ratings)\n",
    "        - [Directors](#4-directors)\n",
    "        - [Writers](#5-writers)\n",
    "4. [Data-Analysis](#data-analysis)\n",
    "    - [Best Income Generating Studios](#best-income-generating-studios)\n",
    "        - [Summary Statistics](#summary-statistics)\n",
    "        - [Distribution of Earnings](#distribution-of-earnings)\n",
    "        - [Top Earning Studios](#top-earning-studios)\n",
    "        - [Earnings Over the Years](#earnings-over-the-years)\n",
    "    - [Best Ratings](#best-ratings)\n",
    "        - [Genres](#best-rated-genres)\n",
    "        - [Directors](#best-rated-directors)\n",
    "        - [Writers](#best-rated-writers)\n"
   ]
  },
  {
   "cell_type": "markdown",
   "metadata": {},
   "source": [
    "# Business Understanding"
   ]
  },
  {
   "cell_type": "markdown",
   "metadata": {},
   "source": [
    "Your company now sees all the big companies creating original video content and they want to get in on the fun. They have decided to create a new movie studio, but they don’t know anything about creating movies. You are charged with exploring what types of films are currently doing the best at the box office. You must then translate those findings into actionable insights that the head of your company's new movie studio can use to help decide what type of films to create.\n"
   ]
  },
  {
   "cell_type": "markdown",
   "metadata": {},
   "source": [
    "# Data Understanding"
   ]
  },
  {
   "cell_type": "markdown",
   "metadata": {},
   "source": [
    "The data was collected from various locations, the different files have different formats.\n",
    "* [Box Office Mojo](https://www.boxofficemojo.com/)\n",
    "* [IMDB](https://www.imdb.com/)\n",
    "* [Rotten Tomatoes](https://www.rottentomatoes.com/)\n",
    "* [TheMovieDB](https://www.themoviedb.org/)\n",
    "* [The Numbers](https://www.the-numbers.com/)\n",
    "\n",
    "Some are compressed CSV (comma-separated values) or TSV (tab-separated values), while the data from IMDB is located in a SQLite database.\n",
    "\n",
    "<img alt='IMDB data erd' src='movie_data_erd.jpeg' width='700px'/>\n",
    ">\n"
   ]
  },
  {
   "cell_type": "markdown",
   "metadata": {},
   "source": [
    "# Preparation of Data"
   ]
  },
  {
   "cell_type": "markdown",
   "metadata": {},
   "source": [
    "## Loading the data"
   ]
  },
  {
   "cell_type": "code",
   "execution_count": 918,
   "metadata": {},
   "outputs": [],
   "source": [
    "# Importing modules\n",
    "import pandas as pd \n",
    "import numpy as np\n",
    "import matplotlib.pyplot as plt\n",
    "import seaborn as sns\n",
    "import sqlite3\n",
    "\n",
    "%matplotlib inline"
   ]
  },
  {
   "cell_type": "code",
   "execution_count": 919,
   "metadata": {},
   "outputs": [],
   "source": [
    "# create a connection to sqlite3\n",
    "conn = sqlite3.connect('zippedData/im.db')"
   ]
  },
  {
   "cell_type": "code",
   "execution_count": 920,
   "metadata": {},
   "outputs": [],
   "source": [
    "# loading the data\n",
    "bom_df = pd.read_csv('zippedData/bom.movie_gross.csv.gz')\n",
    "rt_movie_info_df = pd.read_csv('zippedData/rt.movie_info.tsv.gz', delimiter='\\t')\n",
    "rt_reviews_df = pd.read_csv('zippedData/rt.reviews.tsv.gz', delimiter='\\t', encoding='latin-1')\n",
    "tmdb_df = pd.read_csv('zippedData/tmdb.movies.csv.gz')\n",
    "tn_budgets_df = pd.read_csv('zippedData/tn.movie_budgets.csv.gz')"
   ]
  },
  {
   "cell_type": "markdown",
   "metadata": {},
   "source": [
    "## Box Office Mojo"
   ]
  },
  {
   "cell_type": "code",
   "execution_count": 921,
   "metadata": {},
   "outputs": [
    {
     "name": "stdout",
     "output_type": "stream",
     "text": [
      "<class 'pandas.core.frame.DataFrame'>\n",
      "RangeIndex: 3387 entries, 0 to 3386\n",
      "Data columns (total 5 columns):\n",
      " #   Column          Non-Null Count  Dtype  \n",
      "---  ------          --------------  -----  \n",
      " 0   title           3387 non-null   object \n",
      " 1   studio          3382 non-null   object \n",
      " 2   domestic_gross  3359 non-null   float64\n",
      " 3   foreign_gross   2037 non-null   object \n",
      " 4   year            3387 non-null   int64  \n",
      "dtypes: float64(1), int64(1), object(3)\n",
      "memory usage: 132.4+ KB\n"
     ]
    }
   ],
   "source": [
    "bom_df.info()"
   ]
  },
  {
   "cell_type": "markdown",
   "metadata": {},
   "source": [
    "The data has 3397 entries with some data missing in some columns( studio, domestic_gross and foreign_gross).\n",
    "\n",
    "There are 5 columns\n",
    "\n",
    "Also the foreign gross is in string format"
   ]
  },
  {
   "cell_type": "markdown",
   "metadata": {},
   "source": [
    "### (a). cleaning 'foreign_gross' column"
   ]
  },
  {
   "cell_type": "code",
   "execution_count": 922,
   "metadata": {},
   "outputs": [
    {
     "data": {
      "text/html": [
       "<div>\n",
       "<style scoped>\n",
       "    .dataframe tbody tr th:only-of-type {\n",
       "        vertical-align: middle;\n",
       "    }\n",
       "\n",
       "    .dataframe tbody tr th {\n",
       "        vertical-align: top;\n",
       "    }\n",
       "\n",
       "    .dataframe thead th {\n",
       "        text-align: right;\n",
       "    }\n",
       "</style>\n",
       "<table border=\"1\" class=\"dataframe\">\n",
       "  <thead>\n",
       "    <tr style=\"text-align: right;\">\n",
       "      <th></th>\n",
       "      <th>title</th>\n",
       "      <th>studio</th>\n",
       "      <th>domestic_gross</th>\n",
       "      <th>foreign_gross</th>\n",
       "      <th>year</th>\n",
       "    </tr>\n",
       "  </thead>\n",
       "  <tbody>\n",
       "    <tr>\n",
       "      <th>0</th>\n",
       "      <td>Toy Story 3</td>\n",
       "      <td>BV</td>\n",
       "      <td>415000000</td>\n",
       "      <td>652000000</td>\n",
       "      <td>2010</td>\n",
       "    </tr>\n",
       "    <tr>\n",
       "      <th>1</th>\n",
       "      <td>Alice in Wonderland (2010)</td>\n",
       "      <td>BV</td>\n",
       "      <td>334200000</td>\n",
       "      <td>691300000</td>\n",
       "      <td>2010</td>\n",
       "    </tr>\n",
       "    <tr>\n",
       "      <th>2</th>\n",
       "      <td>Harry Potter and the Deathly Hallows Part 1</td>\n",
       "      <td>WB</td>\n",
       "      <td>296000000</td>\n",
       "      <td>664300000</td>\n",
       "      <td>2010</td>\n",
       "    </tr>\n",
       "    <tr>\n",
       "      <th>3</th>\n",
       "      <td>Inception</td>\n",
       "      <td>WB</td>\n",
       "      <td>292600000</td>\n",
       "      <td>535700000</td>\n",
       "      <td>2010</td>\n",
       "    </tr>\n",
       "    <tr>\n",
       "      <th>4</th>\n",
       "      <td>Shrek Forever After</td>\n",
       "      <td>P/DW</td>\n",
       "      <td>238700000</td>\n",
       "      <td>513900000</td>\n",
       "      <td>2010</td>\n",
       "    </tr>\n",
       "  </tbody>\n",
       "</table>\n",
       "</div>"
      ],
      "text/plain": [
       "                                         title studio  domestic_gross  \\\n",
       "0                                  Toy Story 3     BV       415000000   \n",
       "1                   Alice in Wonderland (2010)     BV       334200000   \n",
       "2  Harry Potter and the Deathly Hallows Part 1     WB       296000000   \n",
       "3                                    Inception     WB       292600000   \n",
       "4                          Shrek Forever After   P/DW       238700000   \n",
       "\n",
       "  foreign_gross  year  \n",
       "0     652000000  2010  \n",
       "1     691300000  2010  \n",
       "2     664300000  2010  \n",
       "3     535700000  2010  \n",
       "4     513900000  2010  "
      ]
     },
     "execution_count": 922,
     "metadata": {},
     "output_type": "execute_result"
    }
   ],
   "source": [
    "bom_df.head()"
   ]
  },
  {
   "cell_type": "markdown",
   "metadata": {},
   "source": [
    "The foreign_gross column is first converted to a numeric data type (float64).\r\n"
   ]
  },
  {
   "cell_type": "code",
   "execution_count": 923,
   "metadata": {},
   "outputs": [
    {
     "data": {
      "text/plain": [
       "dtype('float64')"
      ]
     },
     "execution_count": 923,
     "metadata": {},
     "output_type": "execute_result"
    }
   ],
   "source": [
    "# first eliminate commas\n",
    "bom_df['foreign_gross'] = bom_df.foreign_gross.map(\n",
    "    lambda x: \"\".join(x.split(',')) if type(x) == str else x\n",
    ")\n",
    "bom_df['foreign_gross'] = bom_df.foreign_gross.astype(float)\n",
    "\n",
    "bom_df.foreign_gross.dtype"
   ]
  },
  {
   "cell_type": "markdown",
   "metadata": {},
   "source": [
    "We can handle the missing values now that the column is formatted correctly. \r\n",
    "\r\n",
    "A few film budgets are included in the '**The Numbers**' dataset. We can start by looking through a few of the dataset's missing entries.\r\n"
   ]
  },
  {
   "cell_type": "code",
   "execution_count": 924,
   "metadata": {},
   "outputs": [
    {
     "data": {
      "text/html": [
       "<div>\n",
       "<style scoped>\n",
       "    .dataframe tbody tr th:only-of-type {\n",
       "        vertical-align: middle;\n",
       "    }\n",
       "\n",
       "    .dataframe tbody tr th {\n",
       "        vertical-align: top;\n",
       "    }\n",
       "\n",
       "    .dataframe thead th {\n",
       "        text-align: right;\n",
       "    }\n",
       "</style>\n",
       "<table border=\"1\" class=\"dataframe\">\n",
       "  <thead>\n",
       "    <tr style=\"text-align: right;\">\n",
       "      <th></th>\n",
       "      <th>id</th>\n",
       "      <th>release_date</th>\n",
       "      <th>movie</th>\n",
       "      <th>production_budget</th>\n",
       "      <th>domestic_gross</th>\n",
       "      <th>worldwide_gross</th>\n",
       "    </tr>\n",
       "  </thead>\n",
       "  <tbody>\n",
       "    <tr>\n",
       "      <th>0</th>\n",
       "      <td>1</td>\n",
       "      <td>Dec 18, 2009</td>\n",
       "      <td>Avatar</td>\n",
       "      <td>$425,000,000</td>\n",
       "      <td>$760,507,625</td>\n",
       "      <td>$2,776,345,279</td>\n",
       "    </tr>\n",
       "    <tr>\n",
       "      <th>1</th>\n",
       "      <td>2</td>\n",
       "      <td>May 20, 2011</td>\n",
       "      <td>Pirates of the Caribbean: On Stranger Tides</td>\n",
       "      <td>$410,600,000</td>\n",
       "      <td>$241,063,875</td>\n",
       "      <td>$1,045,663,875</td>\n",
       "    </tr>\n",
       "    <tr>\n",
       "      <th>2</th>\n",
       "      <td>3</td>\n",
       "      <td>Jun 7, 2019</td>\n",
       "      <td>Dark Phoenix</td>\n",
       "      <td>$350,000,000</td>\n",
       "      <td>$42,762,350</td>\n",
       "      <td>$149,762,350</td>\n",
       "    </tr>\n",
       "    <tr>\n",
       "      <th>3</th>\n",
       "      <td>4</td>\n",
       "      <td>May 1, 2015</td>\n",
       "      <td>Avengers: Age of Ultron</td>\n",
       "      <td>$330,600,000</td>\n",
       "      <td>$459,005,868</td>\n",
       "      <td>$1,403,013,963</td>\n",
       "    </tr>\n",
       "    <tr>\n",
       "      <th>4</th>\n",
       "      <td>5</td>\n",
       "      <td>Dec 15, 2017</td>\n",
       "      <td>Star Wars Ep. VIII: The Last Jedi</td>\n",
       "      <td>$317,000,000</td>\n",
       "      <td>$620,181,382</td>\n",
       "      <td>$1,316,721,747</td>\n",
       "    </tr>\n",
       "  </tbody>\n",
       "</table>\n",
       "</div>"
      ],
      "text/plain": [
       "   id  release_date                                        movie  \\\n",
       "0   1  Dec 18, 2009                                       Avatar   \n",
       "1   2  May 20, 2011  Pirates of the Caribbean: On Stranger Tides   \n",
       "2   3   Jun 7, 2019                                 Dark Phoenix   \n",
       "3   4   May 1, 2015                      Avengers: Age of Ultron   \n",
       "4   5  Dec 15, 2017            Star Wars Ep. VIII: The Last Jedi   \n",
       "\n",
       "  production_budget domestic_gross worldwide_gross  \n",
       "0      $425,000,000   $760,507,625  $2,776,345,279  \n",
       "1      $410,600,000   $241,063,875  $1,045,663,875  \n",
       "2      $350,000,000    $42,762,350    $149,762,350  \n",
       "3      $330,600,000   $459,005,868  $1,403,013,963  \n",
       "4      $317,000,000   $620,181,382  $1,316,721,747  "
      ]
     },
     "execution_count": 924,
     "metadata": {},
     "output_type": "execute_result"
    }
   ],
   "source": [
    "# The numbers dataset\n",
    "tn_budgets_df.head()"
   ]
  },
  {
   "cell_type": "code",
   "execution_count": 925,
   "metadata": {},
   "outputs": [
    {
     "name": "stdout",
     "output_type": "stream",
     "text": [
      "<class 'pandas.core.frame.DataFrame'>\n",
      "RangeIndex: 5782 entries, 0 to 5781\n",
      "Data columns (total 6 columns):\n",
      " #   Column             Non-Null Count  Dtype \n",
      "---  ------             --------------  ----- \n",
      " 0   id                 5782 non-null   int64 \n",
      " 1   release_date       5782 non-null   object\n",
      " 2   movie              5782 non-null   object\n",
      " 3   production_budget  5782 non-null   object\n",
      " 4   domestic_gross     5782 non-null   object\n",
      " 5   worldwide_gross    5782 non-null   object\n",
      "dtypes: int64(1), object(5)\n",
      "memory usage: 271.2+ KB\n"
     ]
    }
   ],
   "source": [
    "tn_budgets_df.info()"
   ]
  },
  {
   "cell_type": "markdown",
   "metadata": {},
   "source": [
    "no missing entries present"
   ]
  },
  {
   "cell_type": "markdown",
   "metadata": {},
   "source": [
    "Begin cleaning the numeric columns to eliminate dollar sings and commas"
   ]
  },
  {
   "cell_type": "code",
   "execution_count": 926,
   "metadata": {},
   "outputs": [],
   "source": [
    "def clean_money_cols(row):\n",
    "    \"\"\"Function to clean money columns in the tn_budgets df\"\"\"\n",
    "    i = 3\n",
    "    cols = ['production_budget', 'domestic_gross',\t'worldwide_gross']\n",
    "    while i < len(row):\n",
    "        value = row[cols[i - 3]]\n",
    "        if isinstance(value, str) and value.startswith('$'):\n",
    "            # remove dollar sign\n",
    "            value = value[1:]\n",
    "            # eliminate the commas\n",
    "            value = float(value.replace(',', ''))\n",
    "        row[cols[i - 3]] = value\n",
    "        # increment count\n",
    "        i += 1\n",
    "    return row\n",
    "\n",
    "tn_budgets_df = tn_budgets_df.apply(\n",
    "    lambda row: clean_money_cols(row), axis=1\n",
    ")"
   ]
  },
  {
   "cell_type": "markdown",
   "metadata": {},
   "source": [
    "Now that the amounts columns are in the right data type, we can add another column for foreign gross\n",
    "\n",
    "> foreign_gross = worldwide_gross - domestic_gross"
   ]
  },
  {
   "cell_type": "code",
   "execution_count": 927,
   "metadata": {},
   "outputs": [
    {
     "data": {
      "text/html": [
       "<div>\n",
       "<style scoped>\n",
       "    .dataframe tbody tr th:only-of-type {\n",
       "        vertical-align: middle;\n",
       "    }\n",
       "\n",
       "    .dataframe tbody tr th {\n",
       "        vertical-align: top;\n",
       "    }\n",
       "\n",
       "    .dataframe thead th {\n",
       "        text-align: right;\n",
       "    }\n",
       "</style>\n",
       "<table border=\"1\" class=\"dataframe\">\n",
       "  <thead>\n",
       "    <tr style=\"text-align: right;\">\n",
       "      <th></th>\n",
       "      <th>id</th>\n",
       "      <th>release_date</th>\n",
       "      <th>movie</th>\n",
       "      <th>production_budget</th>\n",
       "      <th>domestic_gross</th>\n",
       "      <th>worldwide_gross</th>\n",
       "      <th>foreign_gross</th>\n",
       "    </tr>\n",
       "  </thead>\n",
       "  <tbody>\n",
       "    <tr>\n",
       "      <th>0</th>\n",
       "      <td>1</td>\n",
       "      <td>Dec 18, 2009</td>\n",
       "      <td>Avatar</td>\n",
       "      <td>425000000</td>\n",
       "      <td>760507625</td>\n",
       "      <td>2776345279</td>\n",
       "      <td>2015837654</td>\n",
       "    </tr>\n",
       "    <tr>\n",
       "      <th>1</th>\n",
       "      <td>2</td>\n",
       "      <td>May 20, 2011</td>\n",
       "      <td>Pirates of the Caribbean: On Stranger Tides</td>\n",
       "      <td>410600000</td>\n",
       "      <td>241063875</td>\n",
       "      <td>1045663875</td>\n",
       "      <td>804600000</td>\n",
       "    </tr>\n",
       "    <tr>\n",
       "      <th>2</th>\n",
       "      <td>3</td>\n",
       "      <td>Jun 7, 2019</td>\n",
       "      <td>Dark Phoenix</td>\n",
       "      <td>350000000</td>\n",
       "      <td>42762350</td>\n",
       "      <td>149762350</td>\n",
       "      <td>107000000</td>\n",
       "    </tr>\n",
       "    <tr>\n",
       "      <th>3</th>\n",
       "      <td>4</td>\n",
       "      <td>May 1, 2015</td>\n",
       "      <td>Avengers: Age of Ultron</td>\n",
       "      <td>330600000</td>\n",
       "      <td>459005868</td>\n",
       "      <td>1403013963</td>\n",
       "      <td>944008095</td>\n",
       "    </tr>\n",
       "    <tr>\n",
       "      <th>4</th>\n",
       "      <td>5</td>\n",
       "      <td>Dec 15, 2017</td>\n",
       "      <td>Star Wars Ep. VIII: The Last Jedi</td>\n",
       "      <td>317000000</td>\n",
       "      <td>620181382</td>\n",
       "      <td>1316721747</td>\n",
       "      <td>696540365</td>\n",
       "    </tr>\n",
       "  </tbody>\n",
       "</table>\n",
       "</div>"
      ],
      "text/plain": [
       "   id  release_date                                        movie  \\\n",
       "0   1  Dec 18, 2009                                       Avatar   \n",
       "1   2  May 20, 2011  Pirates of the Caribbean: On Stranger Tides   \n",
       "2   3   Jun 7, 2019                                 Dark Phoenix   \n",
       "3   4   May 1, 2015                      Avengers: Age of Ultron   \n",
       "4   5  Dec 15, 2017            Star Wars Ep. VIII: The Last Jedi   \n",
       "\n",
       "   production_budget  domestic_gross  worldwide_gross  foreign_gross  \n",
       "0          425000000       760507625       2776345279     2015837654  \n",
       "1          410600000       241063875       1045663875      804600000  \n",
       "2          350000000        42762350        149762350      107000000  \n",
       "3          330600000       459005868       1403013963      944008095  \n",
       "4          317000000       620181382       1316721747      696540365  "
      ]
     },
     "execution_count": 927,
     "metadata": {},
     "output_type": "execute_result"
    }
   ],
   "source": [
    "# creating new column for foreign gross\n",
    "tn_budgets_df['foreign_gross'] = (\n",
    "    tn_budgets_df.worldwide_gross - tn_budgets_df.domestic_gross\n",
    ")\n",
    "tn_budgets_df.head()"
   ]
  },
  {
   "cell_type": "markdown",
   "metadata": {},
   "source": [
    "Fetching all the movies with missing foreign_gross"
   ]
  },
  {
   "cell_type": "code",
   "execution_count": 928,
   "metadata": {},
   "outputs": [
    {
     "name": "stdout",
     "output_type": "stream",
     "text": [
      "Movies missing foreign gross: 1350\n"
     ]
    }
   ],
   "source": [
    "missing_foreign_gross = bom_df.loc[\n",
    "    bom_df.foreign_gross.isna(),\n",
    "    'title'\n",
    "]\n",
    "\n",
    "print('Movies missing foreign gross:', len(missing_foreign_gross))"
   ]
  },
  {
   "cell_type": "markdown",
   "metadata": {},
   "source": [
    "Now we try to get the foreign gross in the tn_budgets_df data"
   ]
  },
  {
   "cell_type": "code",
   "execution_count": 929,
   "metadata": {},
   "outputs": [
    {
     "name": "stdout",
     "output_type": "stream",
     "text": [
      "foreign gross entries found in \"The Numbers\" data: 161\n"
     ]
    },
    {
     "data": {
      "text/html": [
       "<div>\n",
       "<style scoped>\n",
       "    .dataframe tbody tr th:only-of-type {\n",
       "        vertical-align: middle;\n",
       "    }\n",
       "\n",
       "    .dataframe tbody tr th {\n",
       "        vertical-align: top;\n",
       "    }\n",
       "\n",
       "    .dataframe thead th {\n",
       "        text-align: right;\n",
       "    }\n",
       "</style>\n",
       "<table border=\"1\" class=\"dataframe\">\n",
       "  <thead>\n",
       "    <tr style=\"text-align: right;\">\n",
       "      <th></th>\n",
       "      <th>title</th>\n",
       "      <th>foreign_gross</th>\n",
       "    </tr>\n",
       "  </thead>\n",
       "  <tbody>\n",
       "    <tr>\n",
       "      <th>588</th>\n",
       "      <td>Evolution</td>\n",
       "      <td>60030798</td>\n",
       "    </tr>\n",
       "    <tr>\n",
       "      <th>946</th>\n",
       "      <td>Rock Dog</td>\n",
       "      <td>14727942</td>\n",
       "    </tr>\n",
       "    <tr>\n",
       "      <th>1041</th>\n",
       "      <td>Bullet to the Head</td>\n",
       "      <td>13108140</td>\n",
       "    </tr>\n",
       "    <tr>\n",
       "      <th>1231</th>\n",
       "      <td>The Infiltrator</td>\n",
       "      <td>5281296</td>\n",
       "    </tr>\n",
       "    <tr>\n",
       "      <th>1290</th>\n",
       "      <td>All Eyez on Me</td>\n",
       "      <td>9954553</td>\n",
       "    </tr>\n",
       "  </tbody>\n",
       "</table>\n",
       "</div>"
      ],
      "text/plain": [
       "                   title  foreign_gross\n",
       "588            Evolution       60030798\n",
       "946             Rock Dog       14727942\n",
       "1041  Bullet to the Head       13108140\n",
       "1231     The Infiltrator        5281296\n",
       "1290      All Eyez on Me        9954553"
      ]
     },
     "execution_count": 929,
     "metadata": {},
     "output_type": "execute_result"
    }
   ],
   "source": [
    "new_foreign_gross = tn_budgets_df.loc[\n",
    "    tn_budgets_df.movie.isin(missing_foreign_gross),\n",
    "    ['movie', 'foreign_gross']\n",
    "]\n",
    "\n",
    "# change columns to change movie to title\n",
    "new_foreign_gross.columns = ['title', 'foreign_gross']\n",
    "\n",
    "print('foreign gross entries found in \"The Numbers\" data:',\n",
    "      len(new_foreign_gross))\n",
    "\n",
    "new_foreign_gross.head()"
   ]
  },
  {
   "cell_type": "markdown",
   "metadata": {},
   "source": [
    "Found 161 of the missing values in the other dataframe. We now fill in the values in the bom dataframe"
   ]
  },
  {
   "cell_type": "markdown",
   "metadata": {},
   "source": [
    "First we check if there are 0's in the new values which also indicate missing values and remove them"
   ]
  },
  {
   "cell_type": "code",
   "execution_count": 930,
   "metadata": {},
   "outputs": [
    {
     "data": {
      "text/plain": [
       "151"
      ]
     },
     "execution_count": 930,
     "metadata": {},
     "output_type": "execute_result"
    }
   ],
   "source": [
    "new_foreign_gross = new_foreign_gross.loc[\n",
    "    new_foreign_gross.foreign_gross != 0\n",
    "]\n",
    "\n",
    "len(new_foreign_gross)"
   ]
  },
  {
   "cell_type": "markdown",
   "metadata": {},
   "source": [
    "Down to 151. we now fill them in the dataframe"
   ]
  },
  {
   "cell_type": "markdown",
   "metadata": {},
   "source": [
    "we start by defining a helper function"
   ]
  },
  {
   "cell_type": "code",
   "execution_count": 931,
   "metadata": {},
   "outputs": [],
   "source": [
    "def fill_foreign_gross(row):\n",
    "    \"\"\"function to fill the foreign gross column\"\"\"\n",
    "    if row.title in list(new_foreign_gross.title):\n",
    "        row.foreign_gross = float(\n",
    "            new_foreign_gross.loc[\n",
    "                new_foreign_gross.title == row.title,\n",
    "                'foreign_gross'\n",
    "            ].values[0]\n",
    "        )\n",
    "    return row"
   ]
  },
  {
   "cell_type": "markdown",
   "metadata": {},
   "source": [
    "filling the values"
   ]
  },
  {
   "cell_type": "code",
   "execution_count": 932,
   "metadata": {},
   "outputs": [],
   "source": [
    "bom_df = bom_df.apply(\n",
    "    lambda row: fill_foreign_gross(row),\n",
    "    axis=1\n",
    ")"
   ]
  },
  {
   "cell_type": "code",
   "execution_count": 933,
   "metadata": {},
   "outputs": [
    {
     "name": "stdout",
     "output_type": "stream",
     "text": [
      "<class 'pandas.core.frame.DataFrame'>\n",
      "RangeIndex: 3387 entries, 0 to 3386\n",
      "Data columns (total 5 columns):\n",
      " #   Column          Non-Null Count  Dtype  \n",
      "---  ------          --------------  -----  \n",
      " 0   title           3387 non-null   object \n",
      " 1   studio          3382 non-null   object \n",
      " 2   domestic_gross  3359 non-null   float64\n",
      " 3   foreign_gross   2187 non-null   float64\n",
      " 4   year            3387 non-null   int64  \n",
      "dtypes: float64(2), int64(1), object(2)\n",
      "memory usage: 132.4+ KB\n"
     ]
    }
   ],
   "source": [
    "bom_df.info()"
   ]
  },
  {
   "cell_type": "markdown",
   "metadata": {},
   "source": [
    "for the remaining missing values we can fill with the mean foreign gross"
   ]
  },
  {
   "cell_type": "code",
   "execution_count": 934,
   "metadata": {},
   "outputs": [
    {
     "name": "stdout",
     "output_type": "stream",
     "text": [
      "0\n"
     ]
    }
   ],
   "source": [
    "# Convert 'foreign_gross' to numeric, forcing errors to NaN\n",
    "bom_df['foreign_gross'] = pd.to_numeric(bom_df['foreign_gross'], errors='coerce')\n",
    "\n",
    "# Recalculate the mean of 'foreign_gross'\n",
    "foreign_mean = bom_df.foreign_gross.mean()\n",
    "\n",
    "# Fill missing values with the calculated mean\n",
    "bom_df.foreign_gross.fillna(foreign_mean, inplace=True)\n",
    "\n",
    "# Verify if there are any missing values left\n",
    "print(bom_df.foreign_gross.isna().sum())"
   ]
  },
  {
   "cell_type": "markdown",
   "metadata": {},
   "source": [
    "**Creating new column for worldwide gross**"
   ]
  },
  {
   "cell_type": "code",
   "execution_count": 935,
   "metadata": {},
   "outputs": [
    {
     "data": {
      "text/plain": [
       "Index(['title', 'studio', 'domestic_gross', 'foreign_gross', 'year',\n",
       "       'worldwide_gross'],\n",
       "      dtype='object')"
      ]
     },
     "execution_count": 935,
     "metadata": {},
     "output_type": "execute_result"
    }
   ],
   "source": [
    "# create new column for worldwide gross\n",
    "bom_df['worldwide_gross'] = (\n",
    "    bom_df.foreign_gross + bom_df.domestic_gross\n",
    ")\n",
    "\n",
    "bom_df.columns"
   ]
  },
  {
   "cell_type": "markdown",
   "metadata": {},
   "source": [
    "### (b). Handling missing data in domestic_gross column"
   ]
  },
  {
   "cell_type": "markdown",
   "metadata": {},
   "source": [
    "We do the same for the domestic column, first try to get the missing values in the other dataframe, then fill with the mean"
   ]
  },
  {
   "cell_type": "code",
   "execution_count": 936,
   "metadata": {},
   "outputs": [
    {
     "name": "stdout",
     "output_type": "stream",
     "text": [
      "Movies missing domestic gross: 28\n"
     ]
    }
   ],
   "source": [
    "# Get the missing entries in the domestic gross columns\n",
    "missing_domestic_gross = bom_df.loc[\n",
    "    bom_df.domestic_gross.isna(),\n",
    "    'title'\n",
    "]\n",
    "\n",
    "print('Movies missing domestic gross:', len(missing_domestic_gross))"
   ]
  },
  {
   "cell_type": "code",
   "execution_count": 937,
   "metadata": {},
   "outputs": [
    {
     "name": "stdout",
     "output_type": "stream",
     "text": [
      "domestic gross entries found in \"The Numbers\" data: 2\n"
     ]
    },
    {
     "data": {
      "text/html": [
       "<div>\n",
       "<style scoped>\n",
       "    .dataframe tbody tr th:only-of-type {\n",
       "        vertical-align: middle;\n",
       "    }\n",
       "\n",
       "    .dataframe tbody tr th {\n",
       "        vertical-align: top;\n",
       "    }\n",
       "\n",
       "    .dataframe thead th {\n",
       "        text-align: right;\n",
       "    }\n",
       "</style>\n",
       "<table border=\"1\" class=\"dataframe\">\n",
       "  <thead>\n",
       "    <tr style=\"text-align: right;\">\n",
       "      <th></th>\n",
       "      <th>title</th>\n",
       "      <th>domestic_gross</th>\n",
       "    </tr>\n",
       "  </thead>\n",
       "  <tbody>\n",
       "    <tr>\n",
       "      <th>3735</th>\n",
       "      <td>It's a Wonderful Afterlife</td>\n",
       "      <td>0</td>\n",
       "    </tr>\n",
       "    <tr>\n",
       "      <th>5382</th>\n",
       "      <td>All the Boys Love Mandy Lane</td>\n",
       "      <td>0</td>\n",
       "    </tr>\n",
       "  </tbody>\n",
       "</table>\n",
       "</div>"
      ],
      "text/plain": [
       "                             title  domestic_gross\n",
       "3735    It's a Wonderful Afterlife               0\n",
       "5382  All the Boys Love Mandy Lane               0"
      ]
     },
     "execution_count": 937,
     "metadata": {},
     "output_type": "execute_result"
    }
   ],
   "source": [
    "new_domestic_gross = tn_budgets_df.loc[\n",
    "    tn_budgets_df.movie.isin(missing_domestic_gross),\n",
    "    ['movie', 'domestic_gross']\n",
    "]\n",
    "\n",
    "# change columns to change movie to title\n",
    "new_domestic_gross.columns = ['title', 'domestic_gross']\n",
    "\n",
    "print('domestic gross entries found in \"The Numbers\" data:',\n",
    "      len(new_domestic_gross))\n",
    "\n",
    "new_domestic_gross.head()"
   ]
  },
  {
   "cell_type": "markdown",
   "metadata": {},
   "source": [
    "We found two of the movies missing the domestic gross but its still 0 meaning that its also missing in the other data source.\n",
    "\n",
    "Therefore we replace the missing values with mean"
   ]
  },
  {
   "cell_type": "code",
   "execution_count": 938,
   "metadata": {},
   "outputs": [
    {
     "data": {
      "text/plain": [
       "0"
      ]
     },
     "execution_count": 938,
     "metadata": {},
     "output_type": "execute_result"
    }
   ],
   "source": [
    "# get the mean\n",
    "domestic_mean = bom_df.domestic_gross.mean()\n",
    "\n",
    "# fill the null values with mean\n",
    "bom_df['domestic_gross'] = bom_df.domestic_gross.fillna(domestic_mean)\n",
    "\n",
    "bom_df.domestic_gross.isna().sum()"
   ]
  },
  {
   "cell_type": "markdown",
   "metadata": {},
   "source": [
    "no more missing values in the domestic gross column"
   ]
  },
  {
   "cell_type": "code",
   "execution_count": 939,
   "metadata": {},
   "outputs": [
    {
     "name": "stdout",
     "output_type": "stream",
     "text": [
      "<class 'pandas.core.frame.DataFrame'>\n",
      "RangeIndex: 3387 entries, 0 to 3386\n",
      "Data columns (total 6 columns):\n",
      " #   Column           Non-Null Count  Dtype  \n",
      "---  ------           --------------  -----  \n",
      " 0   title            3387 non-null   object \n",
      " 1   studio           3382 non-null   object \n",
      " 2   domestic_gross   3387 non-null   float64\n",
      " 3   foreign_gross    3387 non-null   float64\n",
      " 4   year             3387 non-null   int64  \n",
      " 5   worldwide_gross  3359 non-null   float64\n",
      "dtypes: float64(3), int64(1), object(2)\n",
      "memory usage: 158.9+ KB\n"
     ]
    }
   ],
   "source": [
    "bom_df.info()"
   ]
  },
  {
   "cell_type": "markdown",
   "metadata": {},
   "source": [
    "The studio column has 5 missing entries"
   ]
  },
  {
   "cell_type": "code",
   "execution_count": 940,
   "metadata": {},
   "outputs": [
    {
     "data": {
      "text/plain": [
       "0"
      ]
     },
     "execution_count": 940,
     "metadata": {},
     "output_type": "execute_result"
    }
   ],
   "source": [
    "bom_df.studio.fillna('missing', inplace=True)\n",
    "\n",
    "bom_df.studio.isna().sum()"
   ]
  },
  {
   "cell_type": "markdown",
   "metadata": {},
   "source": [
    "The Box office mojo data is now clean"
   ]
  },
  {
   "cell_type": "code",
   "execution_count": null,
   "metadata": {},
   "outputs": [],
   "source": []
  },
  {
   "cell_type": "markdown",
   "metadata": {},
   "source": [
    "## IMDB"
   ]
  },
  {
   "cell_type": "markdown",
   "metadata": {},
   "source": [
    "The data is in form of a sqlite database\n",
    "\n",
    "checking the available tables first"
   ]
  },
  {
   "cell_type": "code",
   "execution_count": 941,
   "metadata": {},
   "outputs": [
    {
     "data": {
      "text/html": [
       "<div>\n",
       "<style scoped>\n",
       "    .dataframe tbody tr th:only-of-type {\n",
       "        vertical-align: middle;\n",
       "    }\n",
       "\n",
       "    .dataframe tbody tr th {\n",
       "        vertical-align: top;\n",
       "    }\n",
       "\n",
       "    .dataframe thead th {\n",
       "        text-align: right;\n",
       "    }\n",
       "</style>\n",
       "<table border=\"1\" class=\"dataframe\">\n",
       "  <thead>\n",
       "    <tr style=\"text-align: right;\">\n",
       "      <th></th>\n",
       "      <th>name</th>\n",
       "    </tr>\n",
       "  </thead>\n",
       "  <tbody>\n",
       "    <tr>\n",
       "      <th>0</th>\n",
       "      <td>movie_basics</td>\n",
       "    </tr>\n",
       "    <tr>\n",
       "      <th>1</th>\n",
       "      <td>directors</td>\n",
       "    </tr>\n",
       "    <tr>\n",
       "      <th>2</th>\n",
       "      <td>known_for</td>\n",
       "    </tr>\n",
       "    <tr>\n",
       "      <th>3</th>\n",
       "      <td>movie_akas</td>\n",
       "    </tr>\n",
       "    <tr>\n",
       "      <th>4</th>\n",
       "      <td>movie_ratings</td>\n",
       "    </tr>\n",
       "    <tr>\n",
       "      <th>5</th>\n",
       "      <td>persons</td>\n",
       "    </tr>\n",
       "    <tr>\n",
       "      <th>6</th>\n",
       "      <td>principals</td>\n",
       "    </tr>\n",
       "    <tr>\n",
       "      <th>7</th>\n",
       "      <td>writers</td>\n",
       "    </tr>\n",
       "  </tbody>\n",
       "</table>\n",
       "</div>"
      ],
      "text/plain": [
       "            name\n",
       "0   movie_basics\n",
       "1      directors\n",
       "2      known_for\n",
       "3     movie_akas\n",
       "4  movie_ratings\n",
       "5        persons\n",
       "6     principals\n",
       "7        writers"
      ]
     },
     "execution_count": 941,
     "metadata": {},
     "output_type": "execute_result"
    }
   ],
   "source": [
    "table_q = \"\"\"\n",
    "SELECT name \n",
    "FROM sqlite_master \n",
    "WHERE type='table';\n",
    "\"\"\"\n",
    "\n",
    "pd.read_sql(table_q, conn)"
   ]
  },
  {
   "cell_type": "markdown",
   "metadata": {},
   "source": [
    "### 1. movie_basics"
   ]
  },
  {
   "cell_type": "code",
   "execution_count": 942,
   "metadata": {},
   "outputs": [
    {
     "data": {
      "text/html": [
       "<div>\n",
       "<style scoped>\n",
       "    .dataframe tbody tr th:only-of-type {\n",
       "        vertical-align: middle;\n",
       "    }\n",
       "\n",
       "    .dataframe tbody tr th {\n",
       "        vertical-align: top;\n",
       "    }\n",
       "\n",
       "    .dataframe thead th {\n",
       "        text-align: right;\n",
       "    }\n",
       "</style>\n",
       "<table border=\"1\" class=\"dataframe\">\n",
       "  <thead>\n",
       "    <tr style=\"text-align: right;\">\n",
       "      <th></th>\n",
       "      <th>movie_id</th>\n",
       "      <th>primary_title</th>\n",
       "      <th>original_title</th>\n",
       "      <th>start_year</th>\n",
       "      <th>runtime_minutes</th>\n",
       "      <th>genres</th>\n",
       "    </tr>\n",
       "  </thead>\n",
       "  <tbody>\n",
       "    <tr>\n",
       "      <th>0</th>\n",
       "      <td>tt0063540</td>\n",
       "      <td>Sunghursh</td>\n",
       "      <td>Sunghursh</td>\n",
       "      <td>2013</td>\n",
       "      <td>175</td>\n",
       "      <td>Action,Crime,Drama</td>\n",
       "    </tr>\n",
       "    <tr>\n",
       "      <th>1</th>\n",
       "      <td>tt0066787</td>\n",
       "      <td>One Day Before the Rainy Season</td>\n",
       "      <td>Ashad Ka Ek Din</td>\n",
       "      <td>2019</td>\n",
       "      <td>114</td>\n",
       "      <td>Biography,Drama</td>\n",
       "    </tr>\n",
       "    <tr>\n",
       "      <th>2</th>\n",
       "      <td>tt0069049</td>\n",
       "      <td>The Other Side of the Wind</td>\n",
       "      <td>The Other Side of the Wind</td>\n",
       "      <td>2018</td>\n",
       "      <td>122</td>\n",
       "      <td>Drama</td>\n",
       "    </tr>\n",
       "    <tr>\n",
       "      <th>3</th>\n",
       "      <td>tt0069204</td>\n",
       "      <td>Sabse Bada Sukh</td>\n",
       "      <td>Sabse Bada Sukh</td>\n",
       "      <td>2018</td>\n",
       "      <td>NaN</td>\n",
       "      <td>Comedy,Drama</td>\n",
       "    </tr>\n",
       "    <tr>\n",
       "      <th>4</th>\n",
       "      <td>tt0100275</td>\n",
       "      <td>The Wandering Soap Opera</td>\n",
       "      <td>La Telenovela Errante</td>\n",
       "      <td>2017</td>\n",
       "      <td>80</td>\n",
       "      <td>Comedy,Drama,Fantasy</td>\n",
       "    </tr>\n",
       "  </tbody>\n",
       "</table>\n",
       "</div>"
      ],
      "text/plain": [
       "    movie_id                    primary_title              original_title  \\\n",
       "0  tt0063540                        Sunghursh                   Sunghursh   \n",
       "1  tt0066787  One Day Before the Rainy Season             Ashad Ka Ek Din   \n",
       "2  tt0069049       The Other Side of the Wind  The Other Side of the Wind   \n",
       "3  tt0069204                  Sabse Bada Sukh             Sabse Bada Sukh   \n",
       "4  tt0100275         The Wandering Soap Opera       La Telenovela Errante   \n",
       "\n",
       "   start_year  runtime_minutes                genres  \n",
       "0        2013              175    Action,Crime,Drama  \n",
       "1        2019              114       Biography,Drama  \n",
       "2        2018              122                 Drama  \n",
       "3        2018              NaN          Comedy,Drama  \n",
       "4        2017               80  Comedy,Drama,Fantasy  "
      ]
     },
     "execution_count": 942,
     "metadata": {},
     "output_type": "execute_result"
    }
   ],
   "source": [
    "mb_query = \"\"\"\n",
    "SELECT *\n",
    "FROM movie_basics\n",
    "\"\"\"\n",
    "\n",
    "movie_basics = pd.read_sql(mb_query, conn)\n",
    "\n",
    "movie_basics.head()"
   ]
  },
  {
   "cell_type": "markdown",
   "metadata": {},
   "source": [
    "This table contains the basic information about the movies eg title, and genre"
   ]
  },
  {
   "cell_type": "code",
   "execution_count": 943,
   "metadata": {},
   "outputs": [
    {
     "name": "stdout",
     "output_type": "stream",
     "text": [
      "<class 'pandas.core.frame.DataFrame'>\n",
      "RangeIndex: 146144 entries, 0 to 146143\n",
      "Data columns (total 6 columns):\n",
      " #   Column           Non-Null Count   Dtype  \n",
      "---  ------           --------------   -----  \n",
      " 0   movie_id         146144 non-null  object \n",
      " 1   primary_title    146144 non-null  object \n",
      " 2   original_title   146123 non-null  object \n",
      " 3   start_year       146144 non-null  int64  \n",
      " 4   runtime_minutes  114405 non-null  float64\n",
      " 5   genres           140736 non-null  object \n",
      "dtypes: float64(1), int64(1), object(4)\n",
      "memory usage: 6.7+ MB\n"
     ]
    }
   ],
   "source": [
    "movie_basics.info()"
   ]
  },
  {
   "cell_type": "markdown",
   "metadata": {},
   "source": [
    "We notice missing data in some columns. \n",
    "\n"
   ]
  },
  {
   "cell_type": "markdown",
   "metadata": {},
   "source": [
    "#### (a). original_title column\n",
    "Lets start with the original_title column. Since there are few entries missing, we fill with the tag 'missing'"
   ]
  },
  {
   "cell_type": "code",
   "execution_count": 944,
   "metadata": {},
   "outputs": [
    {
     "data": {
      "text/plain": [
       "0"
      ]
     },
     "execution_count": 944,
     "metadata": {},
     "output_type": "execute_result"
    }
   ],
   "source": [
    "movie_basics.original_title.fillna('missing', inplace=True)\n",
    "\n",
    "movie_basics.original_title.isna().sum()"
   ]
  },
  {
   "cell_type": "markdown",
   "metadata": {},
   "source": [
    "#### (b). runtime_minutes column"
   ]
  },
  {
   "cell_type": "markdown",
   "metadata": {},
   "source": [
    "fill runtime_minutes with the average"
   ]
  },
  {
   "cell_type": "code",
   "execution_count": 945,
   "metadata": {},
   "outputs": [
    {
     "data": {
      "text/plain": [
       "0"
      ]
     },
     "execution_count": 945,
     "metadata": {},
     "output_type": "execute_result"
    }
   ],
   "source": [
    "# get the mean runtime minutes\n",
    "mean_runtime = movie_basics.runtime_minutes.mean()\n",
    "movie_basics.runtime_minutes.fillna(mean_runtime, inplace=True)\n",
    "\n",
    "movie_basics.runtime_minutes.isna().sum()"
   ]
  },
  {
   "cell_type": "markdown",
   "metadata": {},
   "source": [
    "#### (c). genres column"
   ]
  },
  {
   "cell_type": "markdown",
   "metadata": {},
   "source": [
    "obtain the movies with missing genres"
   ]
  },
  {
   "cell_type": "code",
   "execution_count": 946,
   "metadata": {},
   "outputs": [
    {
     "data": {
      "text/html": [
       "<div>\n",
       "<style scoped>\n",
       "    .dataframe tbody tr th:only-of-type {\n",
       "        vertical-align: middle;\n",
       "    }\n",
       "\n",
       "    .dataframe tbody tr th {\n",
       "        vertical-align: top;\n",
       "    }\n",
       "\n",
       "    .dataframe thead th {\n",
       "        text-align: right;\n",
       "    }\n",
       "</style>\n",
       "<table border=\"1\" class=\"dataframe\">\n",
       "  <thead>\n",
       "    <tr style=\"text-align: right;\">\n",
       "      <th></th>\n",
       "      <th>movie_id</th>\n",
       "      <th>primary_title</th>\n",
       "      <th>original_title</th>\n",
       "      <th>start_year</th>\n",
       "      <th>runtime_minutes</th>\n",
       "      <th>genres</th>\n",
       "    </tr>\n",
       "  </thead>\n",
       "  <tbody>\n",
       "    <tr>\n",
       "      <th>16</th>\n",
       "      <td>tt0187902</td>\n",
       "      <td>How Huang Fei-hong Rescued the Orphan from the...</td>\n",
       "      <td>How Huang Fei-hong Rescued the Orphan from the...</td>\n",
       "      <td>2011</td>\n",
       "      <td>86</td>\n",
       "      <td>None</td>\n",
       "    </tr>\n",
       "    <tr>\n",
       "      <th>22</th>\n",
       "      <td>tt0253093</td>\n",
       "      <td>Gangavataran</td>\n",
       "      <td>Gangavataran</td>\n",
       "      <td>2018</td>\n",
       "      <td>134</td>\n",
       "      <td>None</td>\n",
       "    </tr>\n",
       "    <tr>\n",
       "      <th>35</th>\n",
       "      <td>tt0306058</td>\n",
       "      <td>Second Coming</td>\n",
       "      <td>Second Coming</td>\n",
       "      <td>2012</td>\n",
       "      <td>95</td>\n",
       "      <td>None</td>\n",
       "    </tr>\n",
       "    <tr>\n",
       "      <th>40</th>\n",
       "      <td>tt0326592</td>\n",
       "      <td>The Overnight</td>\n",
       "      <td>The Overnight</td>\n",
       "      <td>2010</td>\n",
       "      <td>88</td>\n",
       "      <td>None</td>\n",
       "    </tr>\n",
       "    <tr>\n",
       "      <th>44</th>\n",
       "      <td>tt0330811</td>\n",
       "      <td>Regret Not Speaking</td>\n",
       "      <td>Regret Not Speaking</td>\n",
       "      <td>2011</td>\n",
       "      <td>86</td>\n",
       "      <td>None</td>\n",
       "    </tr>\n",
       "  </tbody>\n",
       "</table>\n",
       "</div>"
      ],
      "text/plain": [
       "     movie_id                                      primary_title  \\\n",
       "16  tt0187902  How Huang Fei-hong Rescued the Orphan from the...   \n",
       "22  tt0253093                                       Gangavataran   \n",
       "35  tt0306058                                      Second Coming   \n",
       "40  tt0326592                                      The Overnight   \n",
       "44  tt0330811                                Regret Not Speaking   \n",
       "\n",
       "                                       original_title  start_year  \\\n",
       "16  How Huang Fei-hong Rescued the Orphan from the...        2011   \n",
       "22                                       Gangavataran        2018   \n",
       "35                                      Second Coming        2012   \n",
       "40                                      The Overnight        2010   \n",
       "44                                Regret Not Speaking        2011   \n",
       "\n",
       "    runtime_minutes genres  \n",
       "16               86   None  \n",
       "22              134   None  \n",
       "35               95   None  \n",
       "40               88   None  \n",
       "44               86   None  "
      ]
     },
     "execution_count": 946,
     "metadata": {},
     "output_type": "execute_result"
    }
   ],
   "source": [
    "# movies with missing genres\n",
    "missing_genres_df = movie_basics.loc[\n",
    "    movie_basics['genres'].isna()\n",
    "]\n",
    "\n",
    "missing_genres_df.head()"
   ]
  },
  {
   "cell_type": "markdown",
   "metadata": {},
   "source": [
    "All we require is the id and the title.\r\n",
    "\r\n"
   ]
  },
  {
   "cell_type": "code",
   "execution_count": 947,
   "metadata": {},
   "outputs": [
    {
     "data": {
      "text/html": [
       "<div>\n",
       "<style scoped>\n",
       "    .dataframe tbody tr th:only-of-type {\n",
       "        vertical-align: middle;\n",
       "    }\n",
       "\n",
       "    .dataframe tbody tr th {\n",
       "        vertical-align: top;\n",
       "    }\n",
       "\n",
       "    .dataframe thead th {\n",
       "        text-align: right;\n",
       "    }\n",
       "</style>\n",
       "<table border=\"1\" class=\"dataframe\">\n",
       "  <thead>\n",
       "    <tr style=\"text-align: right;\">\n",
       "      <th></th>\n",
       "      <th>movie_id</th>\n",
       "      <th>primary_title</th>\n",
       "      <th>original_title</th>\n",
       "    </tr>\n",
       "  </thead>\n",
       "  <tbody>\n",
       "    <tr>\n",
       "      <th>16</th>\n",
       "      <td>tt0187902</td>\n",
       "      <td>How Huang Fei-hong Rescued the Orphan from the...</td>\n",
       "      <td>How Huang Fei-hong Rescued the Orphan from the...</td>\n",
       "    </tr>\n",
       "    <tr>\n",
       "      <th>22</th>\n",
       "      <td>tt0253093</td>\n",
       "      <td>Gangavataran</td>\n",
       "      <td>Gangavataran</td>\n",
       "    </tr>\n",
       "    <tr>\n",
       "      <th>35</th>\n",
       "      <td>tt0306058</td>\n",
       "      <td>Second Coming</td>\n",
       "      <td>Second Coming</td>\n",
       "    </tr>\n",
       "    <tr>\n",
       "      <th>40</th>\n",
       "      <td>tt0326592</td>\n",
       "      <td>The Overnight</td>\n",
       "      <td>The Overnight</td>\n",
       "    </tr>\n",
       "    <tr>\n",
       "      <th>44</th>\n",
       "      <td>tt0330811</td>\n",
       "      <td>Regret Not Speaking</td>\n",
       "      <td>Regret Not Speaking</td>\n",
       "    </tr>\n",
       "  </tbody>\n",
       "</table>\n",
       "</div>"
      ],
      "text/plain": [
       "     movie_id                                      primary_title  \\\n",
       "16  tt0187902  How Huang Fei-hong Rescued the Orphan from the...   \n",
       "22  tt0253093                                       Gangavataran   \n",
       "35  tt0306058                                      Second Coming   \n",
       "40  tt0326592                                      The Overnight   \n",
       "44  tt0330811                                Regret Not Speaking   \n",
       "\n",
       "                                       original_title  \n",
       "16  How Huang Fei-hong Rescued the Orphan from the...  \n",
       "22                                       Gangavataran  \n",
       "35                                      Second Coming  \n",
       "40                                      The Overnight  \n",
       "44                                Regret Not Speaking  "
      ]
     },
     "execution_count": 947,
     "metadata": {},
     "output_type": "execute_result"
    }
   ],
   "source": [
    "missing_genres_df = missing_genres_df.loc[\n",
    "    :, ['movie_id', 'primary_title', 'original_title']\n",
    "]\n",
    "\n",
    "missing_genres_df.head()"
   ]
  },
  {
   "cell_type": "markdown",
   "metadata": {},
   "source": [
    "checking  **Rotten tomatoes** data if it contains a genres column first"
   ]
  },
  {
   "cell_type": "code",
   "execution_count": 948,
   "metadata": {},
   "outputs": [
    {
     "data": {
      "text/plain": [
       "Index(['id', 'synopsis', 'rating', 'genre', 'director', 'writer',\n",
       "       'theater_date', 'dvd_date', 'currency', 'box_office', 'runtime',\n",
       "       'studio'],\n",
       "      dtype='object')"
      ]
     },
     "execution_count": 948,
     "metadata": {},
     "output_type": "execute_result"
    }
   ],
   "source": [
    "rt_movie_info_df.columns"
   ]
  },
  {
   "cell_type": "code",
   "execution_count": 949,
   "metadata": {},
   "outputs": [
    {
     "data": {
      "text/html": [
       "<div>\n",
       "<style scoped>\n",
       "    .dataframe tbody tr th:only-of-type {\n",
       "        vertical-align: middle;\n",
       "    }\n",
       "\n",
       "    .dataframe tbody tr th {\n",
       "        vertical-align: top;\n",
       "    }\n",
       "\n",
       "    .dataframe thead th {\n",
       "        text-align: right;\n",
       "    }\n",
       "</style>\n",
       "<table border=\"1\" class=\"dataframe\">\n",
       "  <thead>\n",
       "    <tr style=\"text-align: right;\">\n",
       "      <th></th>\n",
       "      <th>id</th>\n",
       "      <th>synopsis</th>\n",
       "      <th>rating</th>\n",
       "      <th>genre</th>\n",
       "      <th>director</th>\n",
       "      <th>writer</th>\n",
       "      <th>theater_date</th>\n",
       "      <th>dvd_date</th>\n",
       "      <th>currency</th>\n",
       "      <th>box_office</th>\n",
       "      <th>runtime</th>\n",
       "      <th>studio</th>\n",
       "    </tr>\n",
       "  </thead>\n",
       "  <tbody>\n",
       "    <tr>\n",
       "      <th>0</th>\n",
       "      <td>1</td>\n",
       "      <td>This gritty, fast-paced, and innovative police...</td>\n",
       "      <td>R</td>\n",
       "      <td>Action and Adventure|Classics|Drama</td>\n",
       "      <td>William Friedkin</td>\n",
       "      <td>Ernest Tidyman</td>\n",
       "      <td>Oct 9, 1971</td>\n",
       "      <td>Sep 25, 2001</td>\n",
       "      <td>NaN</td>\n",
       "      <td>NaN</td>\n",
       "      <td>104 minutes</td>\n",
       "      <td>NaN</td>\n",
       "    </tr>\n",
       "    <tr>\n",
       "      <th>1</th>\n",
       "      <td>3</td>\n",
       "      <td>New York City, not-too-distant-future: Eric Pa...</td>\n",
       "      <td>R</td>\n",
       "      <td>Drama|Science Fiction and Fantasy</td>\n",
       "      <td>David Cronenberg</td>\n",
       "      <td>David Cronenberg|Don DeLillo</td>\n",
       "      <td>Aug 17, 2012</td>\n",
       "      <td>Jan 1, 2013</td>\n",
       "      <td>$</td>\n",
       "      <td>600,000</td>\n",
       "      <td>108 minutes</td>\n",
       "      <td>Entertainment One</td>\n",
       "    </tr>\n",
       "    <tr>\n",
       "      <th>2</th>\n",
       "      <td>5</td>\n",
       "      <td>Illeana Douglas delivers a superb performance ...</td>\n",
       "      <td>R</td>\n",
       "      <td>Drama|Musical and Performing Arts</td>\n",
       "      <td>Allison Anders</td>\n",
       "      <td>Allison Anders</td>\n",
       "      <td>Sep 13, 1996</td>\n",
       "      <td>Apr 18, 2000</td>\n",
       "      <td>NaN</td>\n",
       "      <td>NaN</td>\n",
       "      <td>116 minutes</td>\n",
       "      <td>NaN</td>\n",
       "    </tr>\n",
       "    <tr>\n",
       "      <th>3</th>\n",
       "      <td>6</td>\n",
       "      <td>Michael Douglas runs afoul of a treacherous su...</td>\n",
       "      <td>R</td>\n",
       "      <td>Drama|Mystery and Suspense</td>\n",
       "      <td>Barry Levinson</td>\n",
       "      <td>Paul Attanasio|Michael Crichton</td>\n",
       "      <td>Dec 9, 1994</td>\n",
       "      <td>Aug 27, 1997</td>\n",
       "      <td>NaN</td>\n",
       "      <td>NaN</td>\n",
       "      <td>128 minutes</td>\n",
       "      <td>NaN</td>\n",
       "    </tr>\n",
       "    <tr>\n",
       "      <th>4</th>\n",
       "      <td>7</td>\n",
       "      <td>NaN</td>\n",
       "      <td>NR</td>\n",
       "      <td>Drama|Romance</td>\n",
       "      <td>Rodney Bennett</td>\n",
       "      <td>Giles Cooper</td>\n",
       "      <td>NaN</td>\n",
       "      <td>NaN</td>\n",
       "      <td>NaN</td>\n",
       "      <td>NaN</td>\n",
       "      <td>200 minutes</td>\n",
       "      <td>NaN</td>\n",
       "    </tr>\n",
       "  </tbody>\n",
       "</table>\n",
       "</div>"
      ],
      "text/plain": [
       "   id                                           synopsis rating  \\\n",
       "0   1  This gritty, fast-paced, and innovative police...      R   \n",
       "1   3  New York City, not-too-distant-future: Eric Pa...      R   \n",
       "2   5  Illeana Douglas delivers a superb performance ...      R   \n",
       "3   6  Michael Douglas runs afoul of a treacherous su...      R   \n",
       "4   7                                                NaN     NR   \n",
       "\n",
       "                                 genre          director  \\\n",
       "0  Action and Adventure|Classics|Drama  William Friedkin   \n",
       "1    Drama|Science Fiction and Fantasy  David Cronenberg   \n",
       "2    Drama|Musical and Performing Arts    Allison Anders   \n",
       "3           Drama|Mystery and Suspense    Barry Levinson   \n",
       "4                        Drama|Romance    Rodney Bennett   \n",
       "\n",
       "                            writer  theater_date      dvd_date currency  \\\n",
       "0                   Ernest Tidyman   Oct 9, 1971  Sep 25, 2001      NaN   \n",
       "1     David Cronenberg|Don DeLillo  Aug 17, 2012   Jan 1, 2013        $   \n",
       "2                   Allison Anders  Sep 13, 1996  Apr 18, 2000      NaN   \n",
       "3  Paul Attanasio|Michael Crichton   Dec 9, 1994  Aug 27, 1997      NaN   \n",
       "4                     Giles Cooper           NaN           NaN      NaN   \n",
       "\n",
       "  box_office      runtime             studio  \n",
       "0        NaN  104 minutes                NaN  \n",
       "1    600,000  108 minutes  Entertainment One  \n",
       "2        NaN  116 minutes                NaN  \n",
       "3        NaN  128 minutes                NaN  \n",
       "4        NaN  200 minutes                NaN  "
      ]
     },
     "execution_count": 949,
     "metadata": {},
     "output_type": "execute_result"
    }
   ],
   "source": [
    "rt_movie_info_df.head()"
   ]
  },
  {
   "cell_type": "markdown",
   "metadata": {},
   "source": [
    "no title column to compare to the data in missing_genres_df"
   ]
  },
  {
   "cell_type": "markdown",
   "metadata": {},
   "source": [
    "Lets check **The Movie Db data** "
   ]
  },
  {
   "cell_type": "code",
   "execution_count": 950,
   "metadata": {},
   "outputs": [
    {
     "data": {
      "text/plain": [
       "Index(['Unnamed: 0', 'genre_ids', 'id', 'original_language', 'original_title',\n",
       "       'popularity', 'release_date', 'title', 'vote_average', 'vote_count'],\n",
       "      dtype='object')"
      ]
     },
     "execution_count": 950,
     "metadata": {},
     "output_type": "execute_result"
    }
   ],
   "source": [
    "tmdb_df.columns"
   ]
  },
  {
   "cell_type": "code",
   "execution_count": 951,
   "metadata": {},
   "outputs": [
    {
     "data": {
      "text/html": [
       "<div>\n",
       "<style scoped>\n",
       "    .dataframe tbody tr th:only-of-type {\n",
       "        vertical-align: middle;\n",
       "    }\n",
       "\n",
       "    .dataframe tbody tr th {\n",
       "        vertical-align: top;\n",
       "    }\n",
       "\n",
       "    .dataframe thead th {\n",
       "        text-align: right;\n",
       "    }\n",
       "</style>\n",
       "<table border=\"1\" class=\"dataframe\">\n",
       "  <thead>\n",
       "    <tr style=\"text-align: right;\">\n",
       "      <th></th>\n",
       "      <th>Unnamed: 0</th>\n",
       "      <th>genre_ids</th>\n",
       "      <th>id</th>\n",
       "      <th>original_language</th>\n",
       "      <th>original_title</th>\n",
       "      <th>popularity</th>\n",
       "      <th>release_date</th>\n",
       "      <th>title</th>\n",
       "      <th>vote_average</th>\n",
       "      <th>vote_count</th>\n",
       "    </tr>\n",
       "  </thead>\n",
       "  <tbody>\n",
       "    <tr>\n",
       "      <th>0</th>\n",
       "      <td>0</td>\n",
       "      <td>[12, 14, 10751]</td>\n",
       "      <td>12444</td>\n",
       "      <td>en</td>\n",
       "      <td>Harry Potter and the Deathly Hallows: Part 1</td>\n",
       "      <td>34</td>\n",
       "      <td>2010-11-19</td>\n",
       "      <td>Harry Potter and the Deathly Hallows: Part 1</td>\n",
       "      <td>8</td>\n",
       "      <td>10788</td>\n",
       "    </tr>\n",
       "    <tr>\n",
       "      <th>1</th>\n",
       "      <td>1</td>\n",
       "      <td>[14, 12, 16, 10751]</td>\n",
       "      <td>10191</td>\n",
       "      <td>en</td>\n",
       "      <td>How to Train Your Dragon</td>\n",
       "      <td>29</td>\n",
       "      <td>2010-03-26</td>\n",
       "      <td>How to Train Your Dragon</td>\n",
       "      <td>8</td>\n",
       "      <td>7610</td>\n",
       "    </tr>\n",
       "    <tr>\n",
       "      <th>2</th>\n",
       "      <td>2</td>\n",
       "      <td>[12, 28, 878]</td>\n",
       "      <td>10138</td>\n",
       "      <td>en</td>\n",
       "      <td>Iron Man 2</td>\n",
       "      <td>29</td>\n",
       "      <td>2010-05-07</td>\n",
       "      <td>Iron Man 2</td>\n",
       "      <td>7</td>\n",
       "      <td>12368</td>\n",
       "    </tr>\n",
       "    <tr>\n",
       "      <th>3</th>\n",
       "      <td>3</td>\n",
       "      <td>[16, 35, 10751]</td>\n",
       "      <td>862</td>\n",
       "      <td>en</td>\n",
       "      <td>Toy Story</td>\n",
       "      <td>28</td>\n",
       "      <td>1995-11-22</td>\n",
       "      <td>Toy Story</td>\n",
       "      <td>8</td>\n",
       "      <td>10174</td>\n",
       "    </tr>\n",
       "    <tr>\n",
       "      <th>4</th>\n",
       "      <td>4</td>\n",
       "      <td>[28, 878, 12]</td>\n",
       "      <td>27205</td>\n",
       "      <td>en</td>\n",
       "      <td>Inception</td>\n",
       "      <td>28</td>\n",
       "      <td>2010-07-16</td>\n",
       "      <td>Inception</td>\n",
       "      <td>8</td>\n",
       "      <td>22186</td>\n",
       "    </tr>\n",
       "  </tbody>\n",
       "</table>\n",
       "</div>"
      ],
      "text/plain": [
       "   Unnamed: 0            genre_ids     id original_language  \\\n",
       "0           0      [12, 14, 10751]  12444                en   \n",
       "1           1  [14, 12, 16, 10751]  10191                en   \n",
       "2           2        [12, 28, 878]  10138                en   \n",
       "3           3      [16, 35, 10751]    862                en   \n",
       "4           4        [28, 878, 12]  27205                en   \n",
       "\n",
       "                                 original_title  popularity release_date  \\\n",
       "0  Harry Potter and the Deathly Hallows: Part 1          34   2010-11-19   \n",
       "1                      How to Train Your Dragon          29   2010-03-26   \n",
       "2                                    Iron Man 2          29   2010-05-07   \n",
       "3                                     Toy Story          28   1995-11-22   \n",
       "4                                     Inception          28   2010-07-16   \n",
       "\n",
       "                                          title  vote_average  vote_count  \n",
       "0  Harry Potter and the Deathly Hallows: Part 1             8       10788  \n",
       "1                      How to Train Your Dragon             8        7610  \n",
       "2                                    Iron Man 2             7       12368  \n",
       "3                                     Toy Story             8       10174  \n",
       "4                                     Inception             8       22186  "
      ]
     },
     "execution_count": 951,
     "metadata": {},
     "output_type": "execute_result"
    }
   ],
   "source": [
    "tmdb_df.head()"
   ]
  },
  {
   "cell_type": "markdown",
   "metadata": {},
   "source": [
    "The genres in this data are id referencing to a genres table that we do not have access to, but there is a title column to compare to.\r\n",
    "\r\n",
    "\n"
   ]
  },
  {
   "cell_type": "markdown",
   "metadata": {},
   "source": [
    "Lastly **The Numbers** data"
   ]
  },
  {
   "cell_type": "code",
   "execution_count": 952,
   "metadata": {},
   "outputs": [
    {
     "data": {
      "text/plain": [
       "Index(['id', 'release_date', 'movie', 'production_budget', 'domestic_gross',\n",
       "       'worldwide_gross', 'foreign_gross'],\n",
       "      dtype='object')"
      ]
     },
     "execution_count": 952,
     "metadata": {},
     "output_type": "execute_result"
    }
   ],
   "source": [
    "tn_budgets_df.columns"
   ]
  },
  {
   "cell_type": "markdown",
   "metadata": {},
   "source": [
    "There is no column we can use to get the genres"
   ]
  },
  {
   "cell_type": "markdown",
   "metadata": {},
   "source": [
    "'Missing' tags can be added to the entries since the genres cannot be obtained from the other data sources.\r\n"
   ]
  },
  {
   "cell_type": "code",
   "execution_count": 953,
   "metadata": {},
   "outputs": [
    {
     "name": "stdout",
     "output_type": "stream",
     "text": [
      "<class 'pandas.core.frame.DataFrame'>\n",
      "RangeIndex: 146144 entries, 0 to 146143\n",
      "Data columns (total 6 columns):\n",
      " #   Column           Non-Null Count   Dtype  \n",
      "---  ------           --------------   -----  \n",
      " 0   movie_id         146144 non-null  object \n",
      " 1   primary_title    146144 non-null  object \n",
      " 2   original_title   146144 non-null  object \n",
      " 3   start_year       146144 non-null  int64  \n",
      " 4   runtime_minutes  146144 non-null  float64\n",
      " 5   genres           146144 non-null  object \n",
      "dtypes: float64(1), int64(1), object(4)\n",
      "memory usage: 6.7+ MB\n"
     ]
    }
   ],
   "source": [
    "movie_basics.fillna('missing', inplace=True)\n",
    "\n",
    "movie_basics.info()"
   ]
  },
  {
   "cell_type": "markdown",
   "metadata": {},
   "source": [
    "no more missing values in the data.\n",
    "\n",
    "Checking for duplicates in movie basics table"
   ]
  },
  {
   "cell_type": "markdown",
   "metadata": {},
   "source": [
    "\n"
   ]
  },
  {
   "cell_type": "code",
   "execution_count": 954,
   "metadata": {},
   "outputs": [
    {
     "data": {
      "text/plain": [
       "0"
      ]
     },
     "execution_count": 954,
     "metadata": {},
     "output_type": "execute_result"
    }
   ],
   "source": [
    "movie_basics.duplicated().sum()"
   ]
  },
  {
   "cell_type": "markdown",
   "metadata": {},
   "source": [
    "No duplicates.\n",
    "\n",
    "The movie basics table is now completely cleaned."
   ]
  },
  {
   "cell_type": "markdown",
   "metadata": {},
   "source": [
    "### 2. movie_ratings"
   ]
  },
  {
   "cell_type": "code",
   "execution_count": 955,
   "metadata": {},
   "outputs": [
    {
     "data": {
      "text/html": [
       "<div>\n",
       "<style scoped>\n",
       "    .dataframe tbody tr th:only-of-type {\n",
       "        vertical-align: middle;\n",
       "    }\n",
       "\n",
       "    .dataframe tbody tr th {\n",
       "        vertical-align: top;\n",
       "    }\n",
       "\n",
       "    .dataframe thead th {\n",
       "        text-align: right;\n",
       "    }\n",
       "</style>\n",
       "<table border=\"1\" class=\"dataframe\">\n",
       "  <thead>\n",
       "    <tr style=\"text-align: right;\">\n",
       "      <th></th>\n",
       "      <th>movie_id</th>\n",
       "      <th>averagerating</th>\n",
       "      <th>numvotes</th>\n",
       "    </tr>\n",
       "  </thead>\n",
       "  <tbody>\n",
       "    <tr>\n",
       "      <th>0</th>\n",
       "      <td>tt10356526</td>\n",
       "      <td>8</td>\n",
       "      <td>31</td>\n",
       "    </tr>\n",
       "    <tr>\n",
       "      <th>1</th>\n",
       "      <td>tt10384606</td>\n",
       "      <td>9</td>\n",
       "      <td>559</td>\n",
       "    </tr>\n",
       "    <tr>\n",
       "      <th>2</th>\n",
       "      <td>tt1042974</td>\n",
       "      <td>6</td>\n",
       "      <td>20</td>\n",
       "    </tr>\n",
       "    <tr>\n",
       "      <th>3</th>\n",
       "      <td>tt1043726</td>\n",
       "      <td>4</td>\n",
       "      <td>50352</td>\n",
       "    </tr>\n",
       "    <tr>\n",
       "      <th>4</th>\n",
       "      <td>tt1060240</td>\n",
       "      <td>6</td>\n",
       "      <td>21</td>\n",
       "    </tr>\n",
       "  </tbody>\n",
       "</table>\n",
       "</div>"
      ],
      "text/plain": [
       "     movie_id  averagerating  numvotes\n",
       "0  tt10356526              8        31\n",
       "1  tt10384606              9       559\n",
       "2   tt1042974              6        20\n",
       "3   tt1043726              4     50352\n",
       "4   tt1060240              6        21"
      ]
     },
     "execution_count": 955,
     "metadata": {},
     "output_type": "execute_result"
    }
   ],
   "source": [
    "mr_query = \"\"\"\n",
    "SELECT *\n",
    "FROM movie_ratings\n",
    "\"\"\"\n",
    "\n",
    "movie_ratings = pd.read_sql(mr_query, conn)\n",
    "movie_ratings.head()"
   ]
  },
  {
   "cell_type": "code",
   "execution_count": 956,
   "metadata": {},
   "outputs": [
    {
     "name": "stdout",
     "output_type": "stream",
     "text": [
      "<class 'pandas.core.frame.DataFrame'>\n",
      "RangeIndex: 73856 entries, 0 to 73855\n",
      "Data columns (total 3 columns):\n",
      " #   Column         Non-Null Count  Dtype  \n",
      "---  ------         --------------  -----  \n",
      " 0   movie_id       73856 non-null  object \n",
      " 1   averagerating  73856 non-null  float64\n",
      " 2   numvotes       73856 non-null  int64  \n",
      "dtypes: float64(1), int64(1), object(1)\n",
      "memory usage: 1.7+ MB\n"
     ]
    }
   ],
   "source": [
    "movie_ratings.info()"
   ]
  },
  {
   "cell_type": "markdown",
   "metadata": {},
   "source": [
    "no missing values in the ratings table"
   ]
  },
  {
   "cell_type": "markdown",
   "metadata": {},
   "source": [
    "Checking for duplicates"
   ]
  },
  {
   "cell_type": "code",
   "execution_count": 957,
   "metadata": {},
   "outputs": [
    {
     "data": {
      "text/plain": [
       "0"
      ]
     },
     "execution_count": 957,
     "metadata": {},
     "output_type": "execute_result"
    }
   ],
   "source": [
    "movie_ratings.duplicated().sum()"
   ]
  },
  {
   "cell_type": "markdown",
   "metadata": {},
   "source": [
    "no duplicates in the movie ratings table"
   ]
  },
  {
   "cell_type": "markdown",
   "metadata": {},
   "source": [
    "### 3. Genre ratings\n"
   ]
  },
  {
   "cell_type": "code",
   "execution_count": 958,
   "metadata": {},
   "outputs": [
    {
     "data": {
      "text/plain": [
       "genres\n",
       "Documentary                   32185\n",
       "Drama                         21486\n",
       "Comedy                         9177\n",
       "missing                        5408\n",
       "Horror                         4372\n",
       "                              ...  \n",
       "Adventure,Music,Mystery           1\n",
       "Documentary,Horror,Romance        1\n",
       "Sport,Thriller                    1\n",
       "Comedy,Sport,Western              1\n",
       "Adventure,History,War             1\n",
       "Name: count, Length: 1086, dtype: int64"
      ]
     },
     "execution_count": 958,
     "metadata": {},
     "output_type": "execute_result"
    }
   ],
   "source": [
    "movie_basics.genres.value_counts()"
   ]
  },
  {
   "cell_type": "markdown",
   "metadata": {},
   "source": [
    "Some genres are combined in one entry separated by a comma. We create a new df and separate each genre and ensure each has its own row.\n",
    "\n",
    "we start by joining movie ratings and movie basics."
   ]
  },
  {
   "cell_type": "code",
   "execution_count": 959,
   "metadata": {},
   "outputs": [],
   "source": [
    "merged_ratings = movie_ratings.merge(movie_basics, on='movie_id', how='inner')"
   ]
  },
  {
   "cell_type": "code",
   "execution_count": 960,
   "metadata": {},
   "outputs": [
    {
     "data": {
      "text/html": [
       "<div>\n",
       "<style scoped>\n",
       "    .dataframe tbody tr th:only-of-type {\n",
       "        vertical-align: middle;\n",
       "    }\n",
       "\n",
       "    .dataframe tbody tr th {\n",
       "        vertical-align: top;\n",
       "    }\n",
       "\n",
       "    .dataframe thead th {\n",
       "        text-align: right;\n",
       "    }\n",
       "</style>\n",
       "<table border=\"1\" class=\"dataframe\">\n",
       "  <thead>\n",
       "    <tr style=\"text-align: right;\">\n",
       "      <th></th>\n",
       "      <th>movie_id</th>\n",
       "      <th>averagerating</th>\n",
       "      <th>numvotes</th>\n",
       "      <th>primary_title</th>\n",
       "      <th>original_title</th>\n",
       "      <th>start_year</th>\n",
       "      <th>runtime_minutes</th>\n",
       "      <th>genres</th>\n",
       "    </tr>\n",
       "  </thead>\n",
       "  <tbody>\n",
       "    <tr>\n",
       "      <th>0</th>\n",
       "      <td>tt10356526</td>\n",
       "      <td>8</td>\n",
       "      <td>31</td>\n",
       "      <td>Laiye Je Yaarian</td>\n",
       "      <td>Laiye Je Yaarian</td>\n",
       "      <td>2019</td>\n",
       "      <td>117</td>\n",
       "      <td>Romance</td>\n",
       "    </tr>\n",
       "    <tr>\n",
       "      <th>1</th>\n",
       "      <td>tt10384606</td>\n",
       "      <td>9</td>\n",
       "      <td>559</td>\n",
       "      <td>Borderless</td>\n",
       "      <td>Borderless</td>\n",
       "      <td>2019</td>\n",
       "      <td>87</td>\n",
       "      <td>Documentary</td>\n",
       "    </tr>\n",
       "    <tr>\n",
       "      <th>2</th>\n",
       "      <td>tt1042974</td>\n",
       "      <td>6</td>\n",
       "      <td>20</td>\n",
       "      <td>Just Inès</td>\n",
       "      <td>Just Inès</td>\n",
       "      <td>2010</td>\n",
       "      <td>90</td>\n",
       "      <td>Drama</td>\n",
       "    </tr>\n",
       "    <tr>\n",
       "      <th>3</th>\n",
       "      <td>tt1043726</td>\n",
       "      <td>4</td>\n",
       "      <td>50352</td>\n",
       "      <td>The Legend of Hercules</td>\n",
       "      <td>The Legend of Hercules</td>\n",
       "      <td>2014</td>\n",
       "      <td>99</td>\n",
       "      <td>Action</td>\n",
       "    </tr>\n",
       "    <tr>\n",
       "      <th>3</th>\n",
       "      <td>tt1043726</td>\n",
       "      <td>4</td>\n",
       "      <td>50352</td>\n",
       "      <td>The Legend of Hercules</td>\n",
       "      <td>The Legend of Hercules</td>\n",
       "      <td>2014</td>\n",
       "      <td>99</td>\n",
       "      <td>Adventure</td>\n",
       "    </tr>\n",
       "  </tbody>\n",
       "</table>\n",
       "</div>"
      ],
      "text/plain": [
       "     movie_id  averagerating  numvotes           primary_title  \\\n",
       "0  tt10356526              8        31        Laiye Je Yaarian   \n",
       "1  tt10384606              9       559              Borderless   \n",
       "2   tt1042974              6        20               Just Inès   \n",
       "3   tt1043726              4     50352  The Legend of Hercules   \n",
       "3   tt1043726              4     50352  The Legend of Hercules   \n",
       "\n",
       "           original_title  start_year  runtime_minutes       genres  \n",
       "0        Laiye Je Yaarian        2019              117      Romance  \n",
       "1              Borderless        2019               87  Documentary  \n",
       "2               Just Inès        2010               90        Drama  \n",
       "3  The Legend of Hercules        2014               99       Action  \n",
       "3  The Legend of Hercules        2014               99    Adventure  "
      ]
     },
     "execution_count": 960,
     "metadata": {},
     "output_type": "execute_result"
    }
   ],
   "source": [
    "# create df as copy of ratings df\n",
    "genre_df = merged_ratings.copy()\n",
    "\n",
    "# split the genres\n",
    "genre_df['genres'] = genre_df.genres.str.split(',')\n",
    "\n",
    "# one genre in each row\n",
    "genre_df = genre_df.explode('genres')\n",
    "\n",
    "genre_df.head()"
   ]
  },
  {
   "cell_type": "code",
   "execution_count": 961,
   "metadata": {},
   "outputs": [
    {
     "data": {
      "text/plain": [
       "Index(['Drama', 'Documentary', 'Comedy', 'Thriller', 'Horror', 'Action',\n",
       "       'Romance', 'Crime', 'Adventure', 'Biography', 'Family', 'Mystery',\n",
       "       'History', 'Sci-Fi', 'Fantasy', 'Music', 'Animation', 'Sport', 'War',\n",
       "       'missing', 'Musical', 'News', 'Western', 'Reality-TV', 'Adult',\n",
       "       'Game-Show', 'Short'],\n",
       "      dtype='object', name='genres')"
      ]
     },
     "execution_count": 961,
     "metadata": {},
     "output_type": "execute_result"
    }
   ],
   "source": [
    "genre_df.genres.value_counts().index"
   ]
  },
  {
   "cell_type": "markdown",
   "metadata": {},
   "source": [
    "### 4. Directors"
   ]
  },
  {
   "cell_type": "code",
   "execution_count": 962,
   "metadata": {},
   "outputs": [
    {
     "name": "stdout",
     "output_type": "stream",
     "text": [
      "<class 'pandas.core.frame.DataFrame'>\n",
      "RangeIndex: 291171 entries, 0 to 291170\n",
      "Data columns (total 6 columns):\n",
      " #   Column              Non-Null Count   Dtype  \n",
      "---  ------              --------------   -----  \n",
      " 0   movie_id            291171 non-null  object \n",
      " 1   person_id           291171 non-null  object \n",
      " 2   primary_name        291171 non-null  object \n",
      " 3   birth_year          68608 non-null   float64\n",
      " 4   death_year          1738 non-null    float64\n",
      " 5   primary_profession  290187 non-null  object \n",
      "dtypes: float64(2), object(4)\n",
      "memory usage: 13.3+ MB\n"
     ]
    }
   ],
   "source": [
    "dir_query = \"\"\"\n",
    "SELECT  *\n",
    "FROM \n",
    "    directors d\n",
    "JOIN\n",
    "    persons p\n",
    "USING(person_id)\n",
    "\"\"\"\n",
    "\n",
    "directors = pd.read_sql(dir_query, conn)\n",
    "directors.info()"
   ]
  },
  {
   "cell_type": "markdown",
   "metadata": {},
   "source": [
    "There are missing values in birth_year, death_year and primary profession columns.\n",
    "\n",
    " we will fill missing value with 0 to represent missing in birth_year and death_year ."
   ]
  },
  {
   "cell_type": "code",
   "execution_count": 963,
   "metadata": {},
   "outputs": [
    {
     "name": "stdout",
     "output_type": "stream",
     "text": [
      "<class 'pandas.core.frame.DataFrame'>\n",
      "RangeIndex: 291171 entries, 0 to 291170\n",
      "Data columns (total 6 columns):\n",
      " #   Column              Non-Null Count   Dtype  \n",
      "---  ------              --------------   -----  \n",
      " 0   movie_id            291171 non-null  object \n",
      " 1   person_id           291171 non-null  object \n",
      " 2   primary_name        291171 non-null  object \n",
      " 3   birth_year          291171 non-null  float64\n",
      " 4   death_year          291171 non-null  float64\n",
      " 5   primary_profession  290187 non-null  object \n",
      "dtypes: float64(2), object(4)\n",
      "memory usage: 13.3+ MB\n"
     ]
    }
   ],
   "source": [
    "# handle missing birth year\n",
    "directors['birth_year'].fillna(0, inplace=True)\n",
    "\n",
    "# handle missing death year\n",
    "directors['death_year'].fillna(0, inplace=True)\n",
    "\n",
    "directors.info()"
   ]
  },
  {
   "cell_type": "markdown",
   "metadata": {},
   "source": [
    "Values are absent from only the primary profession. Since the directors table contains the tag **'director'**, we fill it in for this.\r\n"
   ]
  },
  {
   "cell_type": "code",
   "execution_count": 964,
   "metadata": {},
   "outputs": [
    {
     "name": "stdout",
     "output_type": "stream",
     "text": [
      "<class 'pandas.core.frame.DataFrame'>\n",
      "RangeIndex: 291171 entries, 0 to 291170\n",
      "Data columns (total 6 columns):\n",
      " #   Column              Non-Null Count   Dtype  \n",
      "---  ------              --------------   -----  \n",
      " 0   movie_id            291171 non-null  object \n",
      " 1   person_id           291171 non-null  object \n",
      " 2   primary_name        291171 non-null  object \n",
      " 3   birth_year          291171 non-null  float64\n",
      " 4   death_year          291171 non-null  float64\n",
      " 5   primary_profession  291171 non-null  object \n",
      "dtypes: float64(2), object(4)\n",
      "memory usage: 13.3+ MB\n"
     ]
    }
   ],
   "source": [
    "directors['primary_profession'].fillna('director', inplace=True)\n",
    "\n",
    "directors.info()"
   ]
  },
  {
   "cell_type": "code",
   "execution_count": 965,
   "metadata": {},
   "outputs": [
    {
     "data": {
      "text/plain": [
       "127638"
      ]
     },
     "execution_count": 965,
     "metadata": {},
     "output_type": "execute_result"
    }
   ],
   "source": [
    "#check for duplicates\n",
    "directors.duplicated().sum()"
   ]
  },
  {
   "cell_type": "markdown",
   "metadata": {},
   "source": [
    "too manny duplicates on the table"
   ]
  },
  {
   "cell_type": "code",
   "execution_count": 966,
   "metadata": {},
   "outputs": [
    {
     "data": {
      "text/plain": [
       "0"
      ]
     },
     "execution_count": 966,
     "metadata": {},
     "output_type": "execute_result"
    }
   ],
   "source": [
    "directors.drop_duplicates(inplace=True)\n",
    "\n",
    "directors.duplicated().sum()"
   ]
  },
  {
   "cell_type": "markdown",
   "metadata": {},
   "source": [
    "### 5. Writers"
   ]
  },
  {
   "cell_type": "code",
   "execution_count": 967,
   "metadata": {},
   "outputs": [
    {
     "data": {
      "text/html": [
       "<div>\n",
       "<style scoped>\n",
       "    .dataframe tbody tr th:only-of-type {\n",
       "        vertical-align: middle;\n",
       "    }\n",
       "\n",
       "    .dataframe tbody tr th {\n",
       "        vertical-align: top;\n",
       "    }\n",
       "\n",
       "    .dataframe thead th {\n",
       "        text-align: right;\n",
       "    }\n",
       "</style>\n",
       "<table border=\"1\" class=\"dataframe\">\n",
       "  <thead>\n",
       "    <tr style=\"text-align: right;\">\n",
       "      <th></th>\n",
       "      <th>movie_id</th>\n",
       "      <th>person_id</th>\n",
       "      <th>primary_name</th>\n",
       "      <th>birth_year</th>\n",
       "      <th>death_year</th>\n",
       "      <th>primary_profession</th>\n",
       "    </tr>\n",
       "  </thead>\n",
       "  <tbody>\n",
       "    <tr>\n",
       "      <th>0</th>\n",
       "      <td>tt0285252</td>\n",
       "      <td>nm0899854</td>\n",
       "      <td>Tony Vitale</td>\n",
       "      <td>1964</td>\n",
       "      <td>NaN</td>\n",
       "      <td>producer,director,writer</td>\n",
       "    </tr>\n",
       "    <tr>\n",
       "      <th>1</th>\n",
       "      <td>tt0438973</td>\n",
       "      <td>nm0175726</td>\n",
       "      <td>Steve Conrad</td>\n",
       "      <td>1968</td>\n",
       "      <td>NaN</td>\n",
       "      <td>writer,producer,director</td>\n",
       "    </tr>\n",
       "    <tr>\n",
       "      <th>2</th>\n",
       "      <td>tt0438973</td>\n",
       "      <td>nm1802864</td>\n",
       "      <td>Sean Sorensen</td>\n",
       "      <td>NaN</td>\n",
       "      <td>NaN</td>\n",
       "      <td>producer,writer</td>\n",
       "    </tr>\n",
       "    <tr>\n",
       "      <th>3</th>\n",
       "      <td>tt0462036</td>\n",
       "      <td>nm1940585</td>\n",
       "      <td>Bill Haley</td>\n",
       "      <td>NaN</td>\n",
       "      <td>NaN</td>\n",
       "      <td>director,writer,producer</td>\n",
       "    </tr>\n",
       "    <tr>\n",
       "      <th>4</th>\n",
       "      <td>tt0835418</td>\n",
       "      <td>nm0310087</td>\n",
       "      <td>Peter Gaulke</td>\n",
       "      <td>NaN</td>\n",
       "      <td>NaN</td>\n",
       "      <td>writer,actor,director</td>\n",
       "    </tr>\n",
       "  </tbody>\n",
       "</table>\n",
       "</div>"
      ],
      "text/plain": [
       "    movie_id  person_id   primary_name  birth_year  death_year  \\\n",
       "0  tt0285252  nm0899854    Tony Vitale        1964         NaN   \n",
       "1  tt0438973  nm0175726   Steve Conrad        1968         NaN   \n",
       "2  tt0438973  nm1802864  Sean Sorensen         NaN         NaN   \n",
       "3  tt0462036  nm1940585     Bill Haley         NaN         NaN   \n",
       "4  tt0835418  nm0310087   Peter Gaulke         NaN         NaN   \n",
       "\n",
       "         primary_profession  \n",
       "0  producer,director,writer  \n",
       "1  writer,producer,director  \n",
       "2           producer,writer  \n",
       "3  director,writer,producer  \n",
       "4     writer,actor,director  "
      ]
     },
     "execution_count": 967,
     "metadata": {},
     "output_type": "execute_result"
    }
   ],
   "source": [
    "wr_query = \"\"\"\n",
    "SELECT *\n",
    "FROM\n",
    "    writers w\n",
    "JOIN\n",
    "    persons p\n",
    "USING(person_id)\n",
    "\"\"\"\n",
    "\n",
    "writers = pd.read_sql(wr_query, conn)\n",
    "writers.head()"
   ]
  },
  {
   "cell_type": "code",
   "execution_count": 968,
   "metadata": {},
   "outputs": [
    {
     "name": "stdout",
     "output_type": "stream",
     "text": [
      "<class 'pandas.core.frame.DataFrame'>\n",
      "RangeIndex: 255871 entries, 0 to 255870\n",
      "Data columns (total 6 columns):\n",
      " #   Column              Non-Null Count   Dtype  \n",
      "---  ------              --------------   -----  \n",
      " 0   movie_id            255871 non-null  object \n",
      " 1   person_id           255871 non-null  object \n",
      " 2   primary_name        255871 non-null  object \n",
      " 3   birth_year          52917 non-null   float64\n",
      " 4   death_year          4078 non-null    float64\n",
      " 5   primary_profession  255029 non-null  object \n",
      "dtypes: float64(2), object(4)\n",
      "memory usage: 11.7+ MB\n"
     ]
    }
   ],
   "source": [
    "writers.info()"
   ]
  },
  {
   "cell_type": "code",
   "execution_count": 969,
   "metadata": {},
   "outputs": [
    {
     "name": "stdout",
     "output_type": "stream",
     "text": [
      "<class 'pandas.core.frame.DataFrame'>\n",
      "RangeIndex: 255871 entries, 0 to 255870\n",
      "Data columns (total 6 columns):\n",
      " #   Column              Non-Null Count   Dtype  \n",
      "---  ------              --------------   -----  \n",
      " 0   movie_id            255871 non-null  object \n",
      " 1   person_id           255871 non-null  object \n",
      " 2   primary_name        255871 non-null  object \n",
      " 3   birth_year          255871 non-null  float64\n",
      " 4   death_year          255871 non-null  float64\n",
      " 5   primary_profession  255871 non-null  object \n",
      "dtypes: float64(2), object(4)\n",
      "memory usage: 11.7+ MB\n"
     ]
    }
   ],
   "source": [
    "# Filling the birth column\n",
    "writers['birth_year'].fillna(0, inplace=True)\n",
    "\n",
    "# filling the death column\n",
    "writers['death_year'].fillna(0, inplace=True)\n",
    "\n",
    "# filling the primary proffession column\n",
    "writers['primary_profession'].fillna('writer', inplace=True)\n",
    "\n",
    "writers.info()"
   ]
  },
  {
   "cell_type": "markdown",
   "metadata": {},
   "source": [
    "No missing values in this table."
   ]
  },
  {
   "cell_type": "code",
   "execution_count": 970,
   "metadata": {},
   "outputs": [
    {
     "data": {
      "text/plain": [
       "77521"
      ]
     },
     "execution_count": 970,
     "metadata": {},
     "output_type": "execute_result"
    }
   ],
   "source": [
    "# check duplicates\n",
    "writers.duplicated().sum()"
   ]
  },
  {
   "cell_type": "markdown",
   "metadata": {},
   "source": [
    "Too many duplicates in the table"
   ]
  },
  {
   "cell_type": "code",
   "execution_count": 971,
   "metadata": {},
   "outputs": [
    {
     "data": {
      "text/plain": [
       "0"
      ]
     },
     "execution_count": 971,
     "metadata": {},
     "output_type": "execute_result"
    }
   ],
   "source": [
    "writers.drop_duplicates(inplace=True)\n",
    "\n",
    "# check duplicates\n",
    "writers.duplicated().sum()"
   ]
  },
  {
   "cell_type": "markdown",
   "metadata": {},
   "source": [
    "# Data Analysis"
   ]
  },
  {
   "cell_type": "code",
   "execution_count": 972,
   "metadata": {},
   "outputs": [],
   "source": [
    "# suppressing scientific notation\n",
    "pd.options.display.float_format = '{:.0f}'.format"
   ]
  },
  {
   "cell_type": "markdown",
   "metadata": {},
   "source": [
    "## 1. Best income generating studios"
   ]
  },
  {
   "cell_type": "markdown",
   "metadata": {},
   "source": [
    "We use the Box Office Mojo data"
   ]
  },
  {
   "cell_type": "code",
   "execution_count": 973,
   "metadata": {},
   "outputs": [
    {
     "data": {
      "text/html": [
       "<div>\n",
       "<style scoped>\n",
       "    .dataframe tbody tr th:only-of-type {\n",
       "        vertical-align: middle;\n",
       "    }\n",
       "\n",
       "    .dataframe tbody tr th {\n",
       "        vertical-align: top;\n",
       "    }\n",
       "\n",
       "    .dataframe thead th {\n",
       "        text-align: right;\n",
       "    }\n",
       "</style>\n",
       "<table border=\"1\" class=\"dataframe\">\n",
       "  <thead>\n",
       "    <tr style=\"text-align: right;\">\n",
       "      <th></th>\n",
       "      <th>title</th>\n",
       "      <th>studio</th>\n",
       "      <th>domestic_gross</th>\n",
       "      <th>foreign_gross</th>\n",
       "      <th>year</th>\n",
       "      <th>worldwide_gross</th>\n",
       "    </tr>\n",
       "  </thead>\n",
       "  <tbody>\n",
       "    <tr>\n",
       "      <th>0</th>\n",
       "      <td>Toy Story 3</td>\n",
       "      <td>BV</td>\n",
       "      <td>415000000</td>\n",
       "      <td>652000000</td>\n",
       "      <td>2010</td>\n",
       "      <td>1067000000</td>\n",
       "    </tr>\n",
       "    <tr>\n",
       "      <th>1</th>\n",
       "      <td>Alice in Wonderland (2010)</td>\n",
       "      <td>BV</td>\n",
       "      <td>334200000</td>\n",
       "      <td>691300000</td>\n",
       "      <td>2010</td>\n",
       "      <td>1025500000</td>\n",
       "    </tr>\n",
       "    <tr>\n",
       "      <th>2</th>\n",
       "      <td>Harry Potter and the Deathly Hallows Part 1</td>\n",
       "      <td>WB</td>\n",
       "      <td>296000000</td>\n",
       "      <td>664300000</td>\n",
       "      <td>2010</td>\n",
       "      <td>960300000</td>\n",
       "    </tr>\n",
       "    <tr>\n",
       "      <th>3</th>\n",
       "      <td>Inception</td>\n",
       "      <td>WB</td>\n",
       "      <td>292600000</td>\n",
       "      <td>535700000</td>\n",
       "      <td>2010</td>\n",
       "      <td>828300000</td>\n",
       "    </tr>\n",
       "    <tr>\n",
       "      <th>4</th>\n",
       "      <td>Shrek Forever After</td>\n",
       "      <td>P/DW</td>\n",
       "      <td>238700000</td>\n",
       "      <td>513900000</td>\n",
       "      <td>2010</td>\n",
       "      <td>752600000</td>\n",
       "    </tr>\n",
       "  </tbody>\n",
       "</table>\n",
       "</div>"
      ],
      "text/plain": [
       "                                         title studio  domestic_gross  \\\n",
       "0                                  Toy Story 3     BV       415000000   \n",
       "1                   Alice in Wonderland (2010)     BV       334200000   \n",
       "2  Harry Potter and the Deathly Hallows Part 1     WB       296000000   \n",
       "3                                    Inception     WB       292600000   \n",
       "4                          Shrek Forever After   P/DW       238700000   \n",
       "\n",
       "   foreign_gross  year  worldwide_gross  \n",
       "0      652000000  2010       1067000000  \n",
       "1      691300000  2010       1025500000  \n",
       "2      664300000  2010        960300000  \n",
       "3      535700000  2010        828300000  \n",
       "4      513900000  2010        752600000  "
      ]
     },
     "execution_count": 973,
     "metadata": {},
     "output_type": "execute_result"
    }
   ],
   "source": [
    "bom_df.head()"
   ]
  },
  {
   "cell_type": "markdown",
   "metadata": {},
   "source": [
    "### (a). summary statistics"
   ]
  },
  {
   "cell_type": "code",
   "execution_count": 974,
   "metadata": {},
   "outputs": [
    {
     "data": {
      "text/html": [
       "<div>\n",
       "<style scoped>\n",
       "    .dataframe tbody tr th:only-of-type {\n",
       "        vertical-align: middle;\n",
       "    }\n",
       "\n",
       "    .dataframe tbody tr th {\n",
       "        vertical-align: top;\n",
       "    }\n",
       "\n",
       "    .dataframe thead th {\n",
       "        text-align: right;\n",
       "    }\n",
       "</style>\n",
       "<table border=\"1\" class=\"dataframe\">\n",
       "  <thead>\n",
       "    <tr style=\"text-align: right;\">\n",
       "      <th></th>\n",
       "      <th>domestic_gross</th>\n",
       "      <th>foreign_gross</th>\n",
       "      <th>worldwide_gross</th>\n",
       "    </tr>\n",
       "  </thead>\n",
       "  <tbody>\n",
       "    <tr>\n",
       "      <th>count</th>\n",
       "      <td>3387</td>\n",
       "      <td>3387</td>\n",
       "      <td>3359</td>\n",
       "    </tr>\n",
       "    <tr>\n",
       "      <th>mean</th>\n",
       "      <td>28745845</td>\n",
       "      <td>70151173</td>\n",
       "      <td>99363294</td>\n",
       "    </tr>\n",
       "    <tr>\n",
       "      <th>std</th>\n",
       "      <td>66704973</td>\n",
       "      <td>107498910</td>\n",
       "      <td>163424096</td>\n",
       "    </tr>\n",
       "    <tr>\n",
       "      <th>min</th>\n",
       "      <td>100</td>\n",
       "      <td>600</td>\n",
       "      <td>4900</td>\n",
       "    </tr>\n",
       "    <tr>\n",
       "      <th>25%</th>\n",
       "      <td>122500</td>\n",
       "      <td>8000000</td>\n",
       "      <td>18200000</td>\n",
       "    </tr>\n",
       "    <tr>\n",
       "      <th>50%</th>\n",
       "      <td>1400000</td>\n",
       "      <td>70151173</td>\n",
       "      <td>70187773</td>\n",
       "    </tr>\n",
       "    <tr>\n",
       "      <th>75%</th>\n",
       "      <td>28745845</td>\n",
       "      <td>70151173</td>\n",
       "      <td>73351173</td>\n",
       "    </tr>\n",
       "    <tr>\n",
       "      <th>max</th>\n",
       "      <td>936700000</td>\n",
       "      <td>960500000</td>\n",
       "      <td>1518900000</td>\n",
       "    </tr>\n",
       "  </tbody>\n",
       "</table>\n",
       "</div>"
      ],
      "text/plain": [
       "       domestic_gross  foreign_gross  worldwide_gross\n",
       "count            3387           3387             3359\n",
       "mean         28745845       70151173         99363294\n",
       "std          66704973      107498910        163424096\n",
       "min               100            600             4900\n",
       "25%            122500        8000000         18200000\n",
       "50%           1400000       70151173         70187773\n",
       "75%          28745845       70151173         73351173\n",
       "max         936700000      960500000       1518900000"
      ]
     },
     "execution_count": 974,
     "metadata": {},
     "output_type": "execute_result"
    }
   ],
   "source": [
    "bom_summary = bom_df.loc[\n",
    "    :,\n",
    "    ['domestic_gross', 'foreign_gross', 'worldwide_gross']\n",
    "].describe()\n",
    "bom_summary"
   ]
  },
  {
   "cell_type": "markdown",
   "metadata": {},
   "source": [
    "The mean earnings for the movies are around:\n",
    "- $\\$$ 28M for Domestic gross\n",
    "- $\\$$ 70M for Foreign gross\n",
    "- $\\$$ 99M for worldwide gross"
   ]
  },
  {
   "cell_type": "markdown",
   "metadata": {},
   "source": [
    "The earnings for the movies range from:\n",
    "- $\\$$ 100 to $\\$$ 936M for Domestic gross \n",
    "- $\\$$ 600 to $\\$$ 960M for Foreign gross \n",
    "- $\\$$ 4k  to $\\$$ 1B for worldwide gross "
   ]
  },
  {
   "cell_type": "markdown",
   "metadata": {},
   "source": [
    "### (b). Distribution of earnings"
   ]
  },
  {
   "cell_type": "code",
   "execution_count": 975,
   "metadata": {},
   "outputs": [
    {
     "data": {
      "image/png": "[encoded data removed]",
      "text/plain": [
       "<Figure size 1200x500 with 3 Axes>"
      ]
     },
     "metadata": {},
     "output_type": "display_data"
    }
   ],
   "source": [
    "# creating the figure and axes\n",
    "fig, axes = plt.subplots(ncols=3, figsize=(12, 5))\n",
    "\n",
    "# set the style\n",
    "sns.set_style('darkgrid')\n",
    "\n",
    "# plot distribution for domestic gross\n",
    "sns.boxplot(\n",
    "    data=bom_df,\n",
    "    x='domestic_gross',\n",
    "    ax=axes[0]\n",
    ")\n",
    "\n",
    "\n",
    "\n",
    "# plot distribution for foreign gross\n",
    "sns.boxplot(\n",
    "    data=bom_df,\n",
    "    x='foreign_gross',\n",
    "    ax=axes[1]\n",
    ")\n",
    "\n",
    "\n",
    "\n",
    "# plot distribution for worldwide gross\n",
    "sns.boxplot(\n",
    "    data=bom_df,\n",
    "    x='worldwide_gross',\n",
    "    ax=axes[2]\n",
    ")\n",
    "\n",
    "# setting scale to log\n",
    "axes[0].set_xscale('log')\n",
    "axes[1].set_xscale('log')\n",
    "axes[2].set_xscale('log')\n",
    "\n",
    "\n",
    "# Labelling\n",
    "axes[0].set_title('Distribution of Domestic Gross')\n",
    "axes[1].set_title('Distribution of Foreign Gross')\n",
    "axes[2].set_title('Distribution of Worldwide Gross');"
   ]
  },
  {
   "cell_type": "markdown",
   "metadata": {},
   "source": [
    "In the three categories, there are a few outliers that we can see. For every group, the majority was above 100 meters.\n"
   ]
  },
  {
   "cell_type": "markdown",
   "metadata": {},
   "source": [
    "We can get the exact values by using the cbook  from matplotlib.\n"
   ]
  },
  {
   "cell_type": "code",
   "execution_count": 976,
   "metadata": {},
   "outputs": [],
   "source": [
    "from matplotlib import cbook\n",
    "# Domestic gross stats\n",
    "domestic_stats = cbook.boxplot_stats(bom_df.worldwide_gross)\n",
    "\n",
    "# Foreign gross stats\n",
    "foreign_stats = cbook.boxplot_stats(bom_df.foreign_gross)\n",
    "\n",
    "# Worldwide gross stats\n",
    "worldwide_stats = cbook.boxplot_stats(bom_df.worldwide_gross)"
   ]
  },
  {
   "cell_type": "markdown",
   "metadata": {},
   "source": [
    "Lets focus on the worldwide gross since its the overal earnings."
   ]
  },
  {
   "cell_type": "code",
   "execution_count": 977,
   "metadata": {},
   "outputs": [
    {
     "name": "stdout",
     "output_type": "stream",
     "text": [
      "\n",
      "Worldwide Gross Stats:\n",
      "mean nan\n",
      "iqr nan\n",
      "cilo nan\n",
      "cihi nan\n",
      "whishi nan\n",
      "whislo nan\n",
      "q1 nan\n",
      "med nan\n",
      "q3 nan\n"
     ]
    }
   ],
   "source": [
    "# worldwide gross stats without fliers\n",
    "print('\\nWorldwide Gross Stats:')\n",
    "for key in worldwide_stats[0]:\n",
    "    if key != 'fliers':\n",
    "        print(key, worldwide_stats[0][key])"
   ]
  },
  {
   "cell_type": "markdown",
   "metadata": {},
   "source": [
    "Compared to the summary statistics, these statistics provide us with a precise range and additional information.\r\n",
    "\r\n",
    "- The range of earnings across the globe is 4900–155M. Outlier values are those that fall outside of this range.\r\n",
    "- The confidence intervals and quartiles are also obtained.\r\n"
   ]
  },
  {
   "cell_type": "markdown",
   "metadata": {},
   "source": [
    "### (c). Studios with highest Earnings"
   ]
  },
  {
   "cell_type": "code",
   "execution_count": 978,
   "metadata": {},
   "outputs": [
    {
     "data": {
      "text/plain": [
       "258"
      ]
     },
     "execution_count": 978,
     "metadata": {},
     "output_type": "execute_result"
    }
   ],
   "source": [
    "len(bom_df.studio.value_counts())"
   ]
  },
  {
   "cell_type": "markdown",
   "metadata": {},
   "source": [
    "There are 258 Studios asociated with the movies. We get the studios with the highest earnings (worldwide gross)"
   ]
  },
  {
   "cell_type": "code",
   "execution_count": 979,
   "metadata": {},
   "outputs": [
    {
     "data": {
      "text/html": [
       "<div>\n",
       "<style scoped>\n",
       "    .dataframe tbody tr th:only-of-type {\n",
       "        vertical-align: middle;\n",
       "    }\n",
       "\n",
       "    .dataframe tbody tr th {\n",
       "        vertical-align: top;\n",
       "    }\n",
       "\n",
       "    .dataframe thead th {\n",
       "        text-align: right;\n",
       "    }\n",
       "</style>\n",
       "<table border=\"1\" class=\"dataframe\">\n",
       "  <thead>\n",
       "    <tr style=\"text-align: right;\">\n",
       "      <th></th>\n",
       "      <th>studio</th>\n",
       "      <th>worldwide_gross</th>\n",
       "    </tr>\n",
       "  </thead>\n",
       "  <tbody>\n",
       "    <tr>\n",
       "      <th>0</th>\n",
       "      <td>BV</td>\n",
       "      <td>44213702543</td>\n",
       "    </tr>\n",
       "    <tr>\n",
       "      <th>1</th>\n",
       "      <td>WB</td>\n",
       "      <td>31412801305</td>\n",
       "    </tr>\n",
       "    <tr>\n",
       "      <th>2</th>\n",
       "      <td>Fox</td>\n",
       "      <td>31020580426</td>\n",
       "    </tr>\n",
       "    <tr>\n",
       "      <th>3</th>\n",
       "      <td>Uni.</td>\n",
       "      <td>29967617711</td>\n",
       "    </tr>\n",
       "    <tr>\n",
       "      <th>4</th>\n",
       "      <td>Sony</td>\n",
       "      <td>22685523789</td>\n",
       "    </tr>\n",
       "    <tr>\n",
       "      <th>5</th>\n",
       "      <td>Par.</td>\n",
       "      <td>19924826363</td>\n",
       "    </tr>\n",
       "    <tr>\n",
       "      <th>6</th>\n",
       "      <td>WB (NL)</td>\n",
       "      <td>10334796287</td>\n",
       "    </tr>\n",
       "    <tr>\n",
       "      <th>7</th>\n",
       "      <td>LGF</td>\n",
       "      <td>9215987696</td>\n",
       "    </tr>\n",
       "    <tr>\n",
       "      <th>8</th>\n",
       "      <td>IFC</td>\n",
       "      <td>6693197233</td>\n",
       "    </tr>\n",
       "    <tr>\n",
       "      <th>9</th>\n",
       "      <td>Magn.</td>\n",
       "      <td>5972688551</td>\n",
       "    </tr>\n",
       "  </tbody>\n",
       "</table>\n",
       "</div>"
      ],
      "text/plain": [
       "    studio  worldwide_gross\n",
       "0       BV      44213702543\n",
       "1       WB      31412801305\n",
       "2      Fox      31020580426\n",
       "3     Uni.      29967617711\n",
       "4     Sony      22685523789\n",
       "5     Par.      19924826363\n",
       "6  WB (NL)      10334796287\n",
       "7      LGF       9215987696\n",
       "8      IFC       6693197233\n",
       "9    Magn.       5972688551"
      ]
     },
     "execution_count": 979,
     "metadata": {},
     "output_type": "execute_result"
    }
   ],
   "source": [
    "# Get total earnings for each studio\n",
    "total_studio_earnings = bom_df.groupby(\n",
    "    'studio'\n",
    ")['worldwide_gross'].sum()\n",
    "\n",
    "# sorting the studios according to earnings\n",
    "total_studio_earnings.sort_values(\n",
    "    ascending=False,\n",
    "    inplace=True\n",
    ")\n",
    "\n",
    "# get top 10 studios according to earnings\n",
    "top_10_studios = total_studio_earnings[:10].reset_index()\n",
    "top_10_studios"
   ]
  },
  {
   "cell_type": "markdown",
   "metadata": {},
   "source": [
    "**Plot of the Top 10 Studio Earnings**"
   ]
  },
  {
   "cell_type": "code",
   "execution_count": 980,
   "metadata": {},
   "outputs": [
    {
     "data": {
      "image/png": "[encoded data removed]",
      "text/plain": [
       "<Figure size 640x480 with 1 Axes>"
      ]
     },
     "metadata": {},
     "output_type": "display_data"
    }
   ],
   "source": [
    "# bar plot of studio earnings\n",
    "barplot = sns.barplot(\n",
    "    data=top_10_studios,\n",
    "    x='studio',\n",
    "    y='worldwide_gross'\n",
    ")\n",
    "# labelling\n",
    "barplot.set_title('Top 10 Studio Earnings');"
   ]
  },
  {
   "cell_type": "markdown",
   "metadata": {},
   "source": [
    "Some of the top 10 earning studios include:\n",
    "- BV studios\n",
    "- Warner Bros studios\n",
    "- Fox Studios\n",
    "- universal studios\n",
    "- Sony\n",
    "- Paramount \n",
    "- Warner Bros. (New Line)\n",
    "- Lionsgate Films (LGF)\n",
    "- Independent Film Channel (IFC)\n",
    "- Magnolia Pictures"
   ]
  },
  {
   "cell_type": "markdown",
   "metadata": {},
   "source": [
    "### (d). Distribution of earnings over the years"
   ]
  },
  {
   "cell_type": "code",
   "execution_count": 981,
   "metadata": {},
   "outputs": [],
   "source": [
    "# Creating grouped df of earnings by the years\n",
    "yearly_earnings = bom_df.groupby(\n",
    "    'year'\n",
    ")['worldwide_gross'].sum().reset_index()"
   ]
  },
  {
   "cell_type": "code",
   "execution_count": 982,
   "metadata": {},
   "outputs": [
    {
     "name": "stderr",
     "output_type": "stream",
     "text": [
      "C:\\Users\\HP\\Documents\\conda\\Lib\\site-packages\\seaborn\\_oldcore.py:1119: FutureWarning: use_inf_as_na option is deprecated and will be removed in a future version. Convert inf values to NaN before operating instead.\n",
      "  with pd.option_context('mode.use_inf_as_na', True):\n",
      "C:\\Users\\HP\\Documents\\conda\\Lib\\site-packages\\seaborn\\_oldcore.py:1119: FutureWarning: use_inf_as_na option is deprecated and will be removed in a future version. Convert inf values to NaN before operating instead.\n",
      "  with pd.option_context('mode.use_inf_as_na', True):\n"
     ]
    },
    {
     "data": {
      "text/plain": [
       "Text(0.5, 1.0, 'Distribution of earnings over the years')"
      ]
     },
     "execution_count": 982,
     "metadata": {},
     "output_type": "execute_result"
    },
    {
     "data": {
      "image/png": "[encoded data removed]",
      "text/plain": [
       "<Figure size 640x480 with 1 Axes>"
      ]
     },
     "metadata": {},
     "output_type": "display_data"
    }
   ],
   "source": [
    "# Plotting the disribution over the years\n",
    "ax = sns.lineplot(data=yearly_earnings, x='year', y='worldwide_gross')\n",
    "\n",
    "# labelling\n",
    "ax.set_title('Distribution of earnings over the years')"
   ]
  },
  {
   "cell_type": "markdown",
   "metadata": {},
   "source": [
    "There is an increased trend in earnings over the years.\n",
    "\n",
    "Highest Earning is recorded in 2016 and has decreased ever since. But the overal trend is Increasing"
   ]
  },
  {
   "cell_type": "markdown",
   "metadata": {},
   "source": [
    "## 2. Best Ratings"
   ]
  },
  {
   "cell_type": "markdown",
   "metadata": {},
   "source": [
    "We use the IMDB data to get some insights based on ratings.\n",
    "- Best rated genres\n",
    "- Best rated Writers\n",
    "- Best rated Directors"
   ]
  },
  {
   "cell_type": "markdown",
   "metadata": {},
   "source": [
    "### (a). Best rated genres"
   ]
  },
  {
   "cell_type": "markdown",
   "metadata": {},
   "source": [
    "We use the genres df"
   ]
  },
  {
   "cell_type": "code",
   "execution_count": 983,
   "metadata": {},
   "outputs": [
    {
     "name": "stdout",
     "output_type": "stream",
     "text": [
      "Best Rated: Short\n",
      "Least Rated: Adult\n"
     ]
    },
    {
     "data": {
      "text/html": [
       "<div>\n",
       "<style scoped>\n",
       "    .dataframe tbody tr th:only-of-type {\n",
       "        vertical-align: middle;\n",
       "    }\n",
       "\n",
       "    .dataframe tbody tr th {\n",
       "        vertical-align: top;\n",
       "    }\n",
       "\n",
       "    .dataframe thead th {\n",
       "        text-align: right;\n",
       "    }\n",
       "</style>\n",
       "<table border=\"1\" class=\"dataframe\">\n",
       "  <thead>\n",
       "    <tr style=\"text-align: right;\">\n",
       "      <th></th>\n",
       "      <th>genres</th>\n",
       "      <th>averagerating</th>\n",
       "      <th>numvotes</th>\n",
       "    </tr>\n",
       "  </thead>\n",
       "  <tbody>\n",
       "    <tr>\n",
       "      <th>0</th>\n",
       "      <td>Short</td>\n",
       "      <td>9</td>\n",
       "      <td>8</td>\n",
       "    </tr>\n",
       "    <tr>\n",
       "      <th>1</th>\n",
       "      <td>Game-Show</td>\n",
       "      <td>7</td>\n",
       "      <td>1734</td>\n",
       "    </tr>\n",
       "    <tr>\n",
       "      <th>2</th>\n",
       "      <td>Documentary</td>\n",
       "      <td>7</td>\n",
       "      <td>266</td>\n",
       "    </tr>\n",
       "    <tr>\n",
       "      <th>3</th>\n",
       "      <td>News</td>\n",
       "      <td>7</td>\n",
       "      <td>212</td>\n",
       "    </tr>\n",
       "    <tr>\n",
       "      <th>4</th>\n",
       "      <td>Biography</td>\n",
       "      <td>7</td>\n",
       "      <td>5673</td>\n",
       "    </tr>\n",
       "    <tr>\n",
       "      <th>5</th>\n",
       "      <td>Music</td>\n",
       "      <td>7</td>\n",
       "      <td>2771</td>\n",
       "    </tr>\n",
       "    <tr>\n",
       "      <th>6</th>\n",
       "      <td>Sport</td>\n",
       "      <td>7</td>\n",
       "      <td>3185</td>\n",
       "    </tr>\n",
       "    <tr>\n",
       "      <th>7</th>\n",
       "      <td>History</td>\n",
       "      <td>7</td>\n",
       "      <td>2776</td>\n",
       "    </tr>\n",
       "    <tr>\n",
       "      <th>8</th>\n",
       "      <td>War</td>\n",
       "      <td>7</td>\n",
       "      <td>3147</td>\n",
       "    </tr>\n",
       "    <tr>\n",
       "      <th>9</th>\n",
       "      <td>Musical</td>\n",
       "      <td>6</td>\n",
       "      <td>1925</td>\n",
       "    </tr>\n",
       "    <tr>\n",
       "      <th>10</th>\n",
       "      <td>Reality-TV</td>\n",
       "      <td>6</td>\n",
       "      <td>27</td>\n",
       "    </tr>\n",
       "    <tr>\n",
       "      <th>11</th>\n",
       "      <td>missing</td>\n",
       "      <td>6</td>\n",
       "      <td>24</td>\n",
       "    </tr>\n",
       "    <tr>\n",
       "      <th>12</th>\n",
       "      <td>Drama</td>\n",
       "      <td>6</td>\n",
       "      <td>3883</td>\n",
       "    </tr>\n",
       "    <tr>\n",
       "      <th>13</th>\n",
       "      <td>Family</td>\n",
       "      <td>6</td>\n",
       "      <td>2531</td>\n",
       "    </tr>\n",
       "    <tr>\n",
       "      <th>14</th>\n",
       "      <td>Adventure</td>\n",
       "      <td>6</td>\n",
       "      <td>22067</td>\n",
       "    </tr>\n",
       "    <tr>\n",
       "      <th>15</th>\n",
       "      <td>Animation</td>\n",
       "      <td>6</td>\n",
       "      <td>8808</td>\n",
       "    </tr>\n",
       "    <tr>\n",
       "      <th>16</th>\n",
       "      <td>Crime</td>\n",
       "      <td>6</td>\n",
       "      <td>8594</td>\n",
       "    </tr>\n",
       "    <tr>\n",
       "      <th>17</th>\n",
       "      <td>Romance</td>\n",
       "      <td>6</td>\n",
       "      <td>4084</td>\n",
       "    </tr>\n",
       "    <tr>\n",
       "      <th>18</th>\n",
       "      <td>Comedy</td>\n",
       "      <td>6</td>\n",
       "      <td>4297</td>\n",
       "    </tr>\n",
       "    <tr>\n",
       "      <th>19</th>\n",
       "      <td>Fantasy</td>\n",
       "      <td>6</td>\n",
       "      <td>12387</td>\n",
       "    </tr>\n",
       "    <tr>\n",
       "      <th>20</th>\n",
       "      <td>Western</td>\n",
       "      <td>6</td>\n",
       "      <td>8758</td>\n",
       "    </tr>\n",
       "    <tr>\n",
       "      <th>21</th>\n",
       "      <td>Mystery</td>\n",
       "      <td>6</td>\n",
       "      <td>8113</td>\n",
       "    </tr>\n",
       "    <tr>\n",
       "      <th>22</th>\n",
       "      <td>Action</td>\n",
       "      <td>6</td>\n",
       "      <td>14476</td>\n",
       "    </tr>\n",
       "    <tr>\n",
       "      <th>23</th>\n",
       "      <td>Thriller</td>\n",
       "      <td>6</td>\n",
       "      <td>5860</td>\n",
       "    </tr>\n",
       "    <tr>\n",
       "      <th>24</th>\n",
       "      <td>Sci-Fi</td>\n",
       "      <td>6</td>\n",
       "      <td>19474</td>\n",
       "    </tr>\n",
       "    <tr>\n",
       "      <th>25</th>\n",
       "      <td>Horror</td>\n",
       "      <td>5</td>\n",
       "      <td>3112</td>\n",
       "    </tr>\n",
       "    <tr>\n",
       "      <th>26</th>\n",
       "      <td>Adult</td>\n",
       "      <td>4</td>\n",
       "      <td>54</td>\n",
       "    </tr>\n",
       "  </tbody>\n",
       "</table>\n",
       "</div>"
      ],
      "text/plain": [
       "         genres  averagerating  numvotes\n",
       "0         Short              9         8\n",
       "1     Game-Show              7      1734\n",
       "2   Documentary              7       266\n",
       "3          News              7       212\n",
       "4     Biography              7      5673\n",
       "5         Music              7      2771\n",
       "6         Sport              7      3185\n",
       "7       History              7      2776\n",
       "8           War              7      3147\n",
       "9       Musical              6      1925\n",
       "10   Reality-TV              6        27\n",
       "11      missing              6        24\n",
       "12        Drama              6      3883\n",
       "13       Family              6      2531\n",
       "14    Adventure              6     22067\n",
       "15    Animation              6      8808\n",
       "16        Crime              6      8594\n",
       "17      Romance              6      4084\n",
       "18       Comedy              6      4297\n",
       "19      Fantasy              6     12387\n",
       "20      Western              6      8758\n",
       "21      Mystery              6      8113\n",
       "22       Action              6     14476\n",
       "23     Thriller              6      5860\n",
       "24       Sci-Fi              6     19474\n",
       "25       Horror              5      3112\n",
       "26        Adult              4        54"
      ]
     },
     "execution_count": 983,
     "metadata": {},
     "output_type": "execute_result"
    }
   ],
   "source": [
    "# grouping data by genre\n",
    "genre_ratings = genre_df.groupby('genres')[['averagerating', 'numvotes']].mean()\n",
    "\n",
    "# round rating to 1 decimal point\n",
    "genre_ratings['averagerating'] = genre_ratings['averagerating'].round(1)\n",
    "\n",
    "# converting numvotes to integer\n",
    "genre_ratings['numvotes'] = genre_ratings['numvotes'].astype(int)\n",
    "\n",
    "# sorting the values\n",
    "genre_ratings.sort_values(\n",
    "    by=['averagerating', 'numvotes'],\n",
    "    ascending=False,\n",
    "    inplace=True\n",
    ")\n",
    "\n",
    "# reset index\n",
    "genre_ratings = genre_ratings.reset_index()\n",
    "\n",
    "# get least rated genre\n",
    "least_rated = genre_ratings.loc[\n",
    "    genre_ratings.averagerating == genre_ratings.averagerating.min(),\n",
    "    'genres'\n",
    "]\n",
    "\n",
    "# get best rated genre\n",
    "best_rated = genre_ratings.loc[\n",
    "    genre_ratings.averagerating == genre_ratings.averagerating.max(),\n",
    "    'genres'\n",
    "]\n",
    "\n",
    "print('Best Rated:', best_rated.values[0])\n",
    "print('Least Rated:', least_rated.values[0])\n",
    "\n",
    "genre_ratings"
   ]
  },
  {
   "cell_type": "markdown",
   "metadata": {},
   "source": [
    "Short films are the best rated with Adult films being the least favourite."
   ]
  },
  {
   "cell_type": "markdown",
   "metadata": {},
   "source": [
    "**Visualizing the top 10 genres**"
   ]
  },
  {
   "cell_type": "code",
   "execution_count": 984,
   "metadata": {},
   "outputs": [
    {
     "data": {
      "image/png": "[encoded data removed]",
      "text/plain": [
       "<Figure size 640x480 with 1 Axes>"
      ]
     },
     "metadata": {},
     "output_type": "display_data"
    }
   ],
   "source": [
    "# creating figure and axis\n",
    "fig, ax = plt.subplots()\n",
    "\n",
    "# plotting the bar plot\n",
    "sns.barplot(\n",
    "    data=genre_ratings[:10],\n",
    "    y='genres',\n",
    "    x='averagerating',\n",
    "    ax=ax,\n",
    "    orient='h'\n",
    ")\n",
    "i = 0\n",
    "votes = genre_ratings[:10].numvotes\n",
    "# Labelling the number of votes and including the ratings\n",
    "for p in ax.patches:\n",
    "    # labelling the ratings\n",
    "    ax.annotate(\n",
    "        f'{p.get_width():.2f}',\n",
    "        (p.get_width() + .25, p.get_y() + p.get_height()),\n",
    "        ha='center', va='center',\n",
    "        xytext=(0, 9),\n",
    "        textcoords='offset points'\n",
    "    )\n",
    "    # labelling the number of votes\n",
    "    ax.annotate(\n",
    "        f'{votes[i]} votes',\n",
    "        (p.get_width() / 2., p.get_y() + p.get_height()),\n",
    "        ha='center', va='center',\n",
    "        xytext=(0, 9),\n",
    "        textcoords='offset points'\n",
    "    )\n",
    "    i += 1\n",
    "    \n",
    "# labelling the title\n",
    "ax.set_title('Top 10 rated Genres');"
   ]
  },
  {
   "cell_type": "markdown",
   "metadata": {},
   "source": [
    "The top ten genres are shown in the bar graph according to user ratings. The genres are represented by the x-axis, while the ratings are displayed on the y-axis. The quantity of votes a genre received helps to further classify genres with similar ratings, resulting in a more accurate ranking. The height of the bars reflects the average rating for each genre, and each bar is color-coded to help differentiate between them."
   ]
  },
  {
   "cell_type": "markdown",
   "metadata": {},
   "source": [
    "### (b). Best rated Directors"
   ]
  },
  {
   "cell_type": "markdown",
   "metadata": {},
   "source": [
    "The best directors are those whose movies are highly rated.\n",
    "\n"
   ]
  },
  {
   "cell_type": "code",
   "execution_count": 985,
   "metadata": {},
   "outputs": [
    {
     "data": {
      "text/html": [
       "<div>\n",
       "<style scoped>\n",
       "    .dataframe tbody tr th:only-of-type {\n",
       "        vertical-align: middle;\n",
       "    }\n",
       "\n",
       "    .dataframe tbody tr th {\n",
       "        vertical-align: top;\n",
       "    }\n",
       "\n",
       "    .dataframe thead th {\n",
       "        text-align: right;\n",
       "    }\n",
       "</style>\n",
       "<table border=\"1\" class=\"dataframe\">\n",
       "  <thead>\n",
       "    <tr style=\"text-align: right;\">\n",
       "      <th></th>\n",
       "      <th>movie_id</th>\n",
       "      <th>person_id</th>\n",
       "      <th>primary_name</th>\n",
       "      <th>birth_year</th>\n",
       "      <th>death_year</th>\n",
       "      <th>primary_profession</th>\n",
       "      <th>averagerating</th>\n",
       "      <th>numvotes</th>\n",
       "    </tr>\n",
       "  </thead>\n",
       "  <tbody>\n",
       "    <tr>\n",
       "      <th>0</th>\n",
       "      <td>tt0285252</td>\n",
       "      <td>nm0899854</td>\n",
       "      <td>Tony Vitale</td>\n",
       "      <td>1964</td>\n",
       "      <td>0</td>\n",
       "      <td>producer,director,writer</td>\n",
       "      <td>4</td>\n",
       "      <td>219</td>\n",
       "    </tr>\n",
       "    <tr>\n",
       "      <th>1</th>\n",
       "      <td>tt0462036</td>\n",
       "      <td>nm1940585</td>\n",
       "      <td>Bill Haley</td>\n",
       "      <td>0</td>\n",
       "      <td>0</td>\n",
       "      <td>director,writer,producer</td>\n",
       "      <td>6</td>\n",
       "      <td>18</td>\n",
       "    </tr>\n",
       "    <tr>\n",
       "      <th>2</th>\n",
       "      <td>tt0835418</td>\n",
       "      <td>nm0151540</td>\n",
       "      <td>Jay Chandrasekhar</td>\n",
       "      <td>1968</td>\n",
       "      <td>0</td>\n",
       "      <td>director,actor,writer</td>\n",
       "      <td>5</td>\n",
       "      <td>8147</td>\n",
       "    </tr>\n",
       "    <tr>\n",
       "      <th>3</th>\n",
       "      <td>tt0878654</td>\n",
       "      <td>nm0089502</td>\n",
       "      <td>Albert Pyun</td>\n",
       "      <td>1954</td>\n",
       "      <td>0</td>\n",
       "      <td>director,writer,producer</td>\n",
       "      <td>6</td>\n",
       "      <td>875</td>\n",
       "    </tr>\n",
       "    <tr>\n",
       "      <th>4</th>\n",
       "      <td>tt0878654</td>\n",
       "      <td>nm2291498</td>\n",
       "      <td>Joe Baile</td>\n",
       "      <td>0</td>\n",
       "      <td>0</td>\n",
       "      <td>producer,director,camera_department</td>\n",
       "      <td>6</td>\n",
       "      <td>875</td>\n",
       "    </tr>\n",
       "  </tbody>\n",
       "</table>\n",
       "</div>"
      ],
      "text/plain": [
       "    movie_id  person_id       primary_name  birth_year  death_year  \\\n",
       "0  tt0285252  nm0899854        Tony Vitale        1964           0   \n",
       "1  tt0462036  nm1940585         Bill Haley           0           0   \n",
       "2  tt0835418  nm0151540  Jay Chandrasekhar        1968           0   \n",
       "3  tt0878654  nm0089502        Albert Pyun        1954           0   \n",
       "4  tt0878654  nm2291498          Joe Baile           0           0   \n",
       "\n",
       "                    primary_profession  averagerating  numvotes  \n",
       "0             producer,director,writer              4       219  \n",
       "1             director,writer,producer              6        18  \n",
       "2                director,actor,writer              5      8147  \n",
       "3             director,writer,producer              6       875  \n",
       "4  producer,director,camera_department              6       875  "
      ]
     },
     "execution_count": 985,
     "metadata": {},
     "output_type": "execute_result"
    }
   ],
   "source": [
    "#merge the ratings and directors table\n",
    "director_ratings = directors.merge(\n",
    "    movie_ratings,\n",
    "    on='movie_id',\n",
    "    how='inner'\n",
    ")\n",
    "director_ratings.head()"
   ]
  },
  {
   "cell_type": "markdown",
   "metadata": {},
   "source": [
    "Lets include only the directors who are alive"
   ]
  },
  {
   "cell_type": "code",
   "execution_count": 986,
   "metadata": {},
   "outputs": [
    {
     "data": {
      "text/plain": [
       "death_year\n",
       "0    85331\n",
       "Name: count, dtype: int64"
      ]
     },
     "execution_count": 986,
     "metadata": {},
     "output_type": "execute_result"
    }
   ],
   "source": [
    "director_ratings = director_ratings.loc[\n",
    "    director_ratings.death_year == 0\n",
    "]\n",
    "\n",
    "director_ratings.death_year.value_counts()"
   ]
  },
  {
   "cell_type": "code",
   "execution_count": 987,
   "metadata": {},
   "outputs": [
    {
     "name": "stdout",
     "output_type": "stream",
     "text": [
      "Highest movie count: 39\n",
      "Lowest movie count: 1\n"
     ]
    },
    {
     "data": {
      "text/html": [
       "<div>\n",
       "<style scoped>\n",
       "    .dataframe tbody tr th:only-of-type {\n",
       "        vertical-align: middle;\n",
       "    }\n",
       "\n",
       "    .dataframe tbody tr th {\n",
       "        vertical-align: top;\n",
       "    }\n",
       "\n",
       "    .dataframe thead th {\n",
       "        text-align: right;\n",
       "    }\n",
       "</style>\n",
       "<table border=\"1\" class=\"dataframe\">\n",
       "  <thead>\n",
       "    <tr style=\"text-align: right;\">\n",
       "      <th></th>\n",
       "      <th>person_id</th>\n",
       "      <th>moviecount</th>\n",
       "    </tr>\n",
       "  </thead>\n",
       "  <tbody>\n",
       "    <tr>\n",
       "      <th>0</th>\n",
       "      <td>nm5954636</td>\n",
       "      <td>39</td>\n",
       "    </tr>\n",
       "    <tr>\n",
       "      <th>1</th>\n",
       "      <td>nm2551464</td>\n",
       "      <td>37</td>\n",
       "    </tr>\n",
       "    <tr>\n",
       "      <th>2</th>\n",
       "      <td>nm3583561</td>\n",
       "      <td>34</td>\n",
       "    </tr>\n",
       "    <tr>\n",
       "      <th>3</th>\n",
       "      <td>nm4341114</td>\n",
       "      <td>31</td>\n",
       "    </tr>\n",
       "    <tr>\n",
       "      <th>4</th>\n",
       "      <td>nm2563700</td>\n",
       "      <td>30</td>\n",
       "    </tr>\n",
       "  </tbody>\n",
       "</table>\n",
       "</div>"
      ],
      "text/plain": [
       "   person_id  moviecount\n",
       "0  nm5954636          39\n",
       "1  nm2551464          37\n",
       "2  nm3583561          34\n",
       "3  nm4341114          31\n",
       "4  nm2563700          30"
      ]
     },
     "execution_count": 987,
     "metadata": {},
     "output_type": "execute_result"
    }
   ],
   "source": [
    "#get the number of movies each director has featured in\n",
    "director_movie_count = director_ratings.groupby(\n",
    "    ['person_id']\n",
    ").size().sort_values(ascending=False)\n",
    "\n",
    "# resetting the index and naming count column\n",
    "director_movie_count = director_movie_count.reset_index(name='moviecount')\n",
    "\n",
    "print('Highest movie count:', director_movie_count.moviecount.iloc[0])\n",
    "print('Lowest movie count:', director_movie_count.moviecount.iloc[-1])\n",
    "\n",
    "director_movie_count.head()\n"
   ]
  },
  {
   "cell_type": "markdown",
   "metadata": {},
   "source": [
    " To categorize their experience, we create a new column with the following classifications:\n",
    "\n",
    "Beginner: 1-3 movies\n",
    "\n",
    "Intermediate: 4-5 movies\n",
    "\n",
    "Experienced: 6-15 movies\n",
    "\n",
    "Highly Experienced: 16-20 movies\n",
    "\n",
    "Veteran: 20+ movies\n"
   ]
  },
  {
   "cell_type": "code",
   "execution_count": 988,
   "metadata": {},
   "outputs": [],
   "source": [
    "def set_experience(val):\n",
    "    if val <= 3:\n",
    "        return 'beginner'\n",
    "    elif val > 3 and val <= 5:\n",
    "        return 'intermediate'\n",
    "    elif val > 5 and val <= 15:\n",
    "        return 'experienced'\n",
    "    elif val > 15 and val <=20:\n",
    "        return 'highly experienced'\n",
    "    else:\n",
    "        return 'veteran'\n"
   ]
  },
  {
   "cell_type": "markdown",
   "metadata": {},
   "source": [
    "**Create experience column**"
   ]
  },
  {
   "cell_type": "code",
   "execution_count": 989,
   "metadata": {},
   "outputs": [
    {
     "data": {
      "text/html": [
       "<div>\n",
       "<style scoped>\n",
       "    .dataframe tbody tr th:only-of-type {\n",
       "        vertical-align: middle;\n",
       "    }\n",
       "\n",
       "    .dataframe tbody tr th {\n",
       "        vertical-align: top;\n",
       "    }\n",
       "\n",
       "    .dataframe thead th {\n",
       "        text-align: right;\n",
       "    }\n",
       "</style>\n",
       "<table border=\"1\" class=\"dataframe\">\n",
       "  <thead>\n",
       "    <tr style=\"text-align: right;\">\n",
       "      <th></th>\n",
       "      <th>person_id</th>\n",
       "      <th>moviecount</th>\n",
       "      <th>experience</th>\n",
       "    </tr>\n",
       "  </thead>\n",
       "  <tbody>\n",
       "    <tr>\n",
       "      <th>0</th>\n",
       "      <td>nm5954636</td>\n",
       "      <td>39</td>\n",
       "      <td>veteran</td>\n",
       "    </tr>\n",
       "    <tr>\n",
       "      <th>1</th>\n",
       "      <td>nm2551464</td>\n",
       "      <td>37</td>\n",
       "      <td>veteran</td>\n",
       "    </tr>\n",
       "    <tr>\n",
       "      <th>2</th>\n",
       "      <td>nm3583561</td>\n",
       "      <td>34</td>\n",
       "      <td>veteran</td>\n",
       "    </tr>\n",
       "    <tr>\n",
       "      <th>3</th>\n",
       "      <td>nm4341114</td>\n",
       "      <td>31</td>\n",
       "      <td>veteran</td>\n",
       "    </tr>\n",
       "    <tr>\n",
       "      <th>4</th>\n",
       "      <td>nm2563700</td>\n",
       "      <td>30</td>\n",
       "      <td>veteran</td>\n",
       "    </tr>\n",
       "  </tbody>\n",
       "</table>\n",
       "</div>"
      ],
      "text/plain": [
       "   person_id  moviecount experience\n",
       "0  nm5954636          39    veteran\n",
       "1  nm2551464          37    veteran\n",
       "2  nm3583561          34    veteran\n",
       "3  nm4341114          31    veteran\n",
       "4  nm2563700          30    veteran"
      ]
     },
     "execution_count": 989,
     "metadata": {},
     "output_type": "execute_result"
    }
   ],
   "source": [
    "director_movie_count['experience'] = director_movie_count.moviecount.map(\n",
    "    lambda x: set_experience(x)\n",
    ")\n",
    "director_movie_count.head()"
   ]
  },
  {
   "cell_type": "markdown",
   "metadata": {},
   "source": [
    "Then, we group the data by directors and calculate the average ratings of their movies as well as the average number of votes."
   ]
  },
  {
   "cell_type": "code",
   "execution_count": 990,
   "metadata": {},
   "outputs": [
    {
     "data": {
      "text/html": [
       "<div>\n",
       "<style scoped>\n",
       "    .dataframe tbody tr th:only-of-type {\n",
       "        vertical-align: middle;\n",
       "    }\n",
       "\n",
       "    .dataframe tbody tr th {\n",
       "        vertical-align: top;\n",
       "    }\n",
       "\n",
       "    .dataframe thead th {\n",
       "        text-align: right;\n",
       "    }\n",
       "</style>\n",
       "<table border=\"1\" class=\"dataframe\">\n",
       "  <thead>\n",
       "    <tr style=\"text-align: right;\">\n",
       "      <th></th>\n",
       "      <th>person_id</th>\n",
       "      <th>primary_name</th>\n",
       "      <th>averagerating</th>\n",
       "      <th>numvotes</th>\n",
       "    </tr>\n",
       "  </thead>\n",
       "  <tbody>\n",
       "    <tr>\n",
       "      <th>0</th>\n",
       "      <td>nm0000095</td>\n",
       "      <td>Woody Allen</td>\n",
       "      <td>7</td>\n",
       "      <td>106068</td>\n",
       "    </tr>\n",
       "    <tr>\n",
       "      <th>1</th>\n",
       "      <td>nm0000108</td>\n",
       "      <td>Luc Besson</td>\n",
       "      <td>6</td>\n",
       "      <td>113490</td>\n",
       "    </tr>\n",
       "    <tr>\n",
       "      <th>2</th>\n",
       "      <td>nm0000110</td>\n",
       "      <td>Kenneth Branagh</td>\n",
       "      <td>7</td>\n",
       "      <td>160111</td>\n",
       "    </tr>\n",
       "    <tr>\n",
       "      <th>3</th>\n",
       "      <td>nm0000118</td>\n",
       "      <td>John Carpenter</td>\n",
       "      <td>6</td>\n",
       "      <td>38287</td>\n",
       "    </tr>\n",
       "    <tr>\n",
       "      <th>4</th>\n",
       "      <td>nm0000123</td>\n",
       "      <td>George Clooney</td>\n",
       "      <td>6</td>\n",
       "      <td>118783</td>\n",
       "    </tr>\n",
       "  </tbody>\n",
       "</table>\n",
       "</div>"
      ],
      "text/plain": [
       "   person_id     primary_name  averagerating  numvotes\n",
       "0  nm0000095      Woody Allen              7    106068\n",
       "1  nm0000108       Luc Besson              6    113490\n",
       "2  nm0000110  Kenneth Branagh              7    160111\n",
       "3  nm0000118   John Carpenter              6     38287\n",
       "4  nm0000123   George Clooney              6    118783"
      ]
     },
     "execution_count": 990,
     "metadata": {},
     "output_type": "execute_result"
    }
   ],
   "source": [
    "# grouping by the directiors\n",
    "ratings_by_directors = director_ratings.groupby(\n",
    "    ['person_id', 'primary_name']\n",
    ")[\n",
    "    ['averagerating', 'numvotes']\n",
    "].mean()\n",
    "\n",
    "# reseting the index\n",
    "ratings_by_directors.reset_index(inplace=True)\n",
    "\n",
    "\n",
    "ratings_by_directors.head()"
   ]
  },
  {
   "cell_type": "code",
   "execution_count": 991,
   "metadata": {},
   "outputs": [
    {
     "data": {
      "text/html": [
       "<div>\n",
       "<style scoped>\n",
       "    .dataframe tbody tr th:only-of-type {\n",
       "        vertical-align: middle;\n",
       "    }\n",
       "\n",
       "    .dataframe tbody tr th {\n",
       "        vertical-align: top;\n",
       "    }\n",
       "\n",
       "    .dataframe thead th {\n",
       "        text-align: right;\n",
       "    }\n",
       "</style>\n",
       "<table border=\"1\" class=\"dataframe\">\n",
       "  <thead>\n",
       "    <tr style=\"text-align: right;\">\n",
       "      <th></th>\n",
       "      <th>person_id</th>\n",
       "      <th>primary_name</th>\n",
       "      <th>averagerating</th>\n",
       "      <th>numvotes</th>\n",
       "    </tr>\n",
       "  </thead>\n",
       "  <tbody>\n",
       "    <tr>\n",
       "      <th>31643</th>\n",
       "      <td>nm3388005</td>\n",
       "      <td>Stephen Peek</td>\n",
       "      <td>10</td>\n",
       "      <td>20</td>\n",
       "    </tr>\n",
       "    <tr>\n",
       "      <th>51014</th>\n",
       "      <td>nm7223265</td>\n",
       "      <td>Loreto Di Cesare</td>\n",
       "      <td>10</td>\n",
       "      <td>8</td>\n",
       "    </tr>\n",
       "    <tr>\n",
       "      <th>52109</th>\n",
       "      <td>nm7633303</td>\n",
       "      <td>Lindsay Thompson</td>\n",
       "      <td>10</td>\n",
       "      <td>7</td>\n",
       "    </tr>\n",
       "    <tr>\n",
       "      <th>50148</th>\n",
       "      <td>nm6925060</td>\n",
       "      <td>Tristan David Luciotti</td>\n",
       "      <td>10</td>\n",
       "      <td>6</td>\n",
       "    </tr>\n",
       "    <tr>\n",
       "      <th>54795</th>\n",
       "      <td>nm8791543</td>\n",
       "      <td>Emre Oran</td>\n",
       "      <td>10</td>\n",
       "      <td>6</td>\n",
       "    </tr>\n",
       "    <tr>\n",
       "      <th>...</th>\n",
       "      <td>...</td>\n",
       "      <td>...</td>\n",
       "      <td>...</td>\n",
       "      <td>...</td>\n",
       "    </tr>\n",
       "    <tr>\n",
       "      <th>54832</th>\n",
       "      <td>nm8809512</td>\n",
       "      <td>Erik Alarik</td>\n",
       "      <td>1</td>\n",
       "      <td>8</td>\n",
       "    </tr>\n",
       "    <tr>\n",
       "      <th>23645</th>\n",
       "      <td>nm2277264</td>\n",
       "      <td>Koki Ebata</td>\n",
       "      <td>1</td>\n",
       "      <td>7</td>\n",
       "    </tr>\n",
       "    <tr>\n",
       "      <th>40737</th>\n",
       "      <td>nm4728793</td>\n",
       "      <td>Takeo Urakami</td>\n",
       "      <td>1</td>\n",
       "      <td>7</td>\n",
       "    </tr>\n",
       "    <tr>\n",
       "      <th>28377</th>\n",
       "      <td>nm2947112</td>\n",
       "      <td>Shinju Funabiki</td>\n",
       "      <td>1</td>\n",
       "      <td>6</td>\n",
       "    </tr>\n",
       "    <tr>\n",
       "      <th>44133</th>\n",
       "      <td>nm5328929</td>\n",
       "      <td>Samuele Dalò</td>\n",
       "      <td>1</td>\n",
       "      <td>5</td>\n",
       "    </tr>\n",
       "  </tbody>\n",
       "</table>\n",
       "<p>56784 rows × 4 columns</p>\n",
       "</div>"
      ],
      "text/plain": [
       "       person_id            primary_name  averagerating  numvotes\n",
       "31643  nm3388005            Stephen Peek             10        20\n",
       "51014  nm7223265        Loreto Di Cesare             10         8\n",
       "52109  nm7633303        Lindsay Thompson             10         7\n",
       "50148  nm6925060  Tristan David Luciotti             10         6\n",
       "54795  nm8791543               Emre Oran             10         6\n",
       "...          ...                     ...            ...       ...\n",
       "54832  nm8809512             Erik Alarik              1         8\n",
       "23645  nm2277264              Koki Ebata              1         7\n",
       "40737  nm4728793           Takeo Urakami              1         7\n",
       "28377  nm2947112         Shinju Funabiki              1         6\n",
       "44133  nm5328929            Samuele Dalò              1         5\n",
       "\n",
       "[56784 rows x 4 columns]"
      ]
     },
     "execution_count": 991,
     "metadata": {},
     "output_type": "execute_result"
    }
   ],
   "source": [
    "# rounding the ratings column\n",
    "ratings_by_directors.averagerating = ratings_by_directors.averagerating.round(1)\n",
    "\n",
    "# convert votes to integers\n",
    "ratings_by_directors.numvotes = ratings_by_directors.numvotes.astype(int)\n",
    "\n",
    "# sorting\n",
    "ratings_by_directors.sort_values(\n",
    "    by=['averagerating', 'numvotes'],\n",
    "    ascending=False,\n",
    "    inplace=True\n",
    ")\n",
    "\n",
    "ratings_by_directors\n"
   ]
  },
  {
   "cell_type": "markdown",
   "metadata": {},
   "source": [
    "It is noted that the average rating for the best directors is 10, whereas the lowest have an average rating of 1."
   ]
  },
  {
   "cell_type": "code",
   "execution_count": 992,
   "metadata": {},
   "outputs": [
    {
     "name": "stdout",
     "output_type": "stream",
     "text": [
      "<class 'pandas.core.frame.DataFrame'>\n",
      "RangeIndex: 56784 entries, 0 to 56783\n",
      "Data columns (total 6 columns):\n",
      " #   Column         Non-Null Count  Dtype  \n",
      "---  ------         --------------  -----  \n",
      " 0   person_id      56784 non-null  object \n",
      " 1   primary_name   56784 non-null  object \n",
      " 2   averagerating  56784 non-null  float64\n",
      " 3   numvotes       56784 non-null  int32  \n",
      " 4   moviecount     56784 non-null  int64  \n",
      " 5   experience     56784 non-null  object \n",
      "dtypes: float64(1), int32(1), int64(1), object(3)\n",
      "memory usage: 2.4+ MB\n"
     ]
    }
   ],
   "source": [
    "# merging the ratings to include movies count\n",
    "ratings_by_directors = ratings_by_directors.merge(\n",
    "    director_movie_count,\n",
    "    on='person_id',\n",
    "    how='inner'\n",
    ")\n",
    " \n",
    "ratings_by_directors.info()"
   ]
  },
  {
   "cell_type": "code",
   "execution_count": 993,
   "metadata": {},
   "outputs": [
    {
     "data": {
      "text/html": [
       "<div>\n",
       "<style scoped>\n",
       "    .dataframe tbody tr th:only-of-type {\n",
       "        vertical-align: middle;\n",
       "    }\n",
       "\n",
       "    .dataframe tbody tr th {\n",
       "        vertical-align: top;\n",
       "    }\n",
       "\n",
       "    .dataframe thead th {\n",
       "        text-align: right;\n",
       "    }\n",
       "</style>\n",
       "<table border=\"1\" class=\"dataframe\">\n",
       "  <thead>\n",
       "    <tr style=\"text-align: right;\">\n",
       "      <th></th>\n",
       "      <th>person_id</th>\n",
       "      <th>primary_name</th>\n",
       "      <th>averagerating</th>\n",
       "      <th>numvotes</th>\n",
       "      <th>moviecount</th>\n",
       "      <th>experience</th>\n",
       "    </tr>\n",
       "  </thead>\n",
       "  <tbody>\n",
       "    <tr>\n",
       "      <th>0</th>\n",
       "      <td>nm3388005</td>\n",
       "      <td>Stephen Peek</td>\n",
       "      <td>10</td>\n",
       "      <td>20</td>\n",
       "      <td>1</td>\n",
       "      <td>beginner</td>\n",
       "    </tr>\n",
       "    <tr>\n",
       "      <th>1</th>\n",
       "      <td>nm7223265</td>\n",
       "      <td>Loreto Di Cesare</td>\n",
       "      <td>10</td>\n",
       "      <td>8</td>\n",
       "      <td>1</td>\n",
       "      <td>beginner</td>\n",
       "    </tr>\n",
       "    <tr>\n",
       "      <th>2</th>\n",
       "      <td>nm7633303</td>\n",
       "      <td>Lindsay Thompson</td>\n",
       "      <td>10</td>\n",
       "      <td>7</td>\n",
       "      <td>1</td>\n",
       "      <td>beginner</td>\n",
       "    </tr>\n",
       "    <tr>\n",
       "      <th>3</th>\n",
       "      <td>nm6925060</td>\n",
       "      <td>Tristan David Luciotti</td>\n",
       "      <td>10</td>\n",
       "      <td>6</td>\n",
       "      <td>1</td>\n",
       "      <td>beginner</td>\n",
       "    </tr>\n",
       "    <tr>\n",
       "      <th>4</th>\n",
       "      <td>nm8791543</td>\n",
       "      <td>Emre Oran</td>\n",
       "      <td>10</td>\n",
       "      <td>6</td>\n",
       "      <td>1</td>\n",
       "      <td>beginner</td>\n",
       "    </tr>\n",
       "    <tr>\n",
       "      <th>...</th>\n",
       "      <td>...</td>\n",
       "      <td>...</td>\n",
       "      <td>...</td>\n",
       "      <td>...</td>\n",
       "      <td>...</td>\n",
       "      <td>...</td>\n",
       "    </tr>\n",
       "    <tr>\n",
       "      <th>56779</th>\n",
       "      <td>nm8809512</td>\n",
       "      <td>Erik Alarik</td>\n",
       "      <td>1</td>\n",
       "      <td>8</td>\n",
       "      <td>1</td>\n",
       "      <td>beginner</td>\n",
       "    </tr>\n",
       "    <tr>\n",
       "      <th>56780</th>\n",
       "      <td>nm2277264</td>\n",
       "      <td>Koki Ebata</td>\n",
       "      <td>1</td>\n",
       "      <td>7</td>\n",
       "      <td>1</td>\n",
       "      <td>beginner</td>\n",
       "    </tr>\n",
       "    <tr>\n",
       "      <th>56781</th>\n",
       "      <td>nm4728793</td>\n",
       "      <td>Takeo Urakami</td>\n",
       "      <td>1</td>\n",
       "      <td>7</td>\n",
       "      <td>1</td>\n",
       "      <td>beginner</td>\n",
       "    </tr>\n",
       "    <tr>\n",
       "      <th>56782</th>\n",
       "      <td>nm2947112</td>\n",
       "      <td>Shinju Funabiki</td>\n",
       "      <td>1</td>\n",
       "      <td>6</td>\n",
       "      <td>1</td>\n",
       "      <td>beginner</td>\n",
       "    </tr>\n",
       "    <tr>\n",
       "      <th>56783</th>\n",
       "      <td>nm5328929</td>\n",
       "      <td>Samuele Dalò</td>\n",
       "      <td>1</td>\n",
       "      <td>5</td>\n",
       "      <td>1</td>\n",
       "      <td>beginner</td>\n",
       "    </tr>\n",
       "  </tbody>\n",
       "</table>\n",
       "<p>56784 rows × 6 columns</p>\n",
       "</div>"
      ],
      "text/plain": [
       "       person_id            primary_name  averagerating  numvotes  moviecount  \\\n",
       "0      nm3388005            Stephen Peek             10        20           1   \n",
       "1      nm7223265        Loreto Di Cesare             10         8           1   \n",
       "2      nm7633303        Lindsay Thompson             10         7           1   \n",
       "3      nm6925060  Tristan David Luciotti             10         6           1   \n",
       "4      nm8791543               Emre Oran             10         6           1   \n",
       "...          ...                     ...            ...       ...         ...   \n",
       "56779  nm8809512             Erik Alarik              1         8           1   \n",
       "56780  nm2277264              Koki Ebata              1         7           1   \n",
       "56781  nm4728793           Takeo Urakami              1         7           1   \n",
       "56782  nm2947112         Shinju Funabiki              1         6           1   \n",
       "56783  nm5328929            Samuele Dalò              1         5           1   \n",
       "\n",
       "      experience  \n",
       "0       beginner  \n",
       "1       beginner  \n",
       "2       beginner  \n",
       "3       beginner  \n",
       "4       beginner  \n",
       "...          ...  \n",
       "56779   beginner  \n",
       "56780   beginner  \n",
       "56781   beginner  \n",
       "56782   beginner  \n",
       "56783   beginner  \n",
       "\n",
       "[56784 rows x 6 columns]"
      ]
     },
     "execution_count": 993,
     "metadata": {},
     "output_type": "execute_result"
    }
   ],
   "source": [
    "# change data type of moviecount column\n",
    "ratings_by_directors.moviecount = ratings_by_directors.moviecount.astype('Int32')\n",
    "# include sorting by movie count\n",
    "ratings_by_directors.sort_values(\n",
    "    by=['averagerating', 'moviecount', 'numvotes'],\n",
    "    ascending=False,\n",
    "    inplace=True\n",
    ")\n",
    "\n",
    "ratings_by_directors"
   ]
  },
  {
   "cell_type": "markdown",
   "metadata": {},
   "source": [
    "now let group the directors by experience and compare them."
   ]
  },
  {
   "cell_type": "code",
   "execution_count": 994,
   "metadata": {},
   "outputs": [],
   "source": [
    "# top 5 beginner directors\n",
    "top_5_beginner_directors = ratings_by_directors.loc[\n",
    "    ratings_by_directors.experience == 'beginner'\n",
    "][:5]\n",
    "\n",
    "# top 5 intermediate directors\n",
    "top_5_intermediate_directors = ratings_by_directors.loc[\n",
    "    ratings_by_directors.experience == 'intermediate'\n",
    "][:5]\n",
    "\n",
    "# top 5 experienced directors\n",
    "top_5_experienced_directors = ratings_by_directors.loc[\n",
    "    ratings_by_directors.experience == 'experienced'\n",
    "][:5]\n",
    "\n",
    "# top 5 highly experienced directors\n",
    "top_5_highly_directors = ratings_by_directors.loc[\n",
    "    ratings_by_directors.experience == 'highly experienced'\n",
    "][:5]\n",
    "\n",
    "# top 5 veteran directors\n",
    "top_5_veteran_directors= ratings_by_directors.loc[\n",
    "    ratings_by_directors.experience == 'veteran'\n",
    "][:5]"
   ]
  },
  {
   "cell_type": "code",
   "execution_count": 995,
   "metadata": {},
   "outputs": [
    {
     "data": {
      "image/png": "[encoded data removed]",
      "text/plain": [
       "<Figure size 700x2500 with 5 Axes>"
      ]
     },
     "metadata": {},
     "output_type": "display_data"
    }
   ],
   "source": [
    "# create figure and axes\n",
    "fig, axes = plt.subplots(nrows=5, figsize=(7, 25))\n",
    "\n",
    "# list of all dataframes\n",
    "data_list = [\n",
    "    top_5_beginner_directors,\n",
    "    top_5_intermediate_directors,\n",
    "    top_5_experienced_directors,\n",
    "    top_5_highly_directors,\n",
    "    top_5_veteran_directors\n",
    "]\n",
    "\n",
    "# plotting the data\n",
    "for i, data in enumerate(data_list):\n",
    "    sns.barplot(\n",
    "        data=data,\n",
    "        x='averagerating',\n",
    "        y='primary_name',\n",
    "        ax=axes[i]\n",
    "    )\n",
    "    # including the number of votes and movie count\n",
    "    n = 0\n",
    "    for p in axes[i].patches:\n",
    "        # labelling the rating\n",
    "        axes[i].annotate(\n",
    "            f'{p.get_width():.2f}',\n",
    "            (p.get_width() + .25, p.get_y() + p.get_height()),\n",
    "            ha='center', va='center',\n",
    "            xytext=(0, 9),\n",
    "            textcoords='offset points'\n",
    "        )\n",
    "        # labelling the number of votes\n",
    "        axes[i].annotate(\n",
    "            f'{data.moviecount.iloc[n]} movie(s), {data.numvotes.iloc[n]} votes',\n",
    "            (p.get_width() / 2., p.get_y() + p.get_height()),\n",
    "            ha='center', va='center',\n",
    "            xytext=(0, 9),\n",
    "            textcoords='offset points'\n",
    "        )\n",
    "        n += 1\n",
    "    \n",
    "    # labeling axes\n",
    "    axes[i].set_title(f'Top 5 {data.experience.iloc[i]} directors')\n",
    "    axes[i].set_xlabel('Average Rating')\n",
    "    axes[i].set_ylabel('Director Name')\n",
    "    axes[i].set_xlim(0, 10)"
   ]
  },
  {
   "cell_type": "code",
   "execution_count": 996,
   "metadata": {},
   "outputs": [
    {
     "name": "stdout",
     "output_type": "stream",
     "text": [
      "Top Director in each experience category:\n",
      "Beginner: Stephen Peek\n",
      "Intermediate: Nuo Wang\n",
      "Experienced: Ian Cranston\n",
      "Highly Experienced: Kaushik Ganguly\n",
      "Veteran: Sergey A.\n"
     ]
    }
   ],
   "source": [
    "# print top director in each experience category\n",
    "print('Top Director in each experience category:')\n",
    "print('Beginner:', top_5_beginner_directors.primary_name.iloc[0])\n",
    "print('Intermediate:', top_5_intermediate_directors.primary_name.iloc[0])\n",
    "print('Experienced:', top_5_experienced_directors.primary_name.iloc[0])\n",
    "print('Highly Experienced:', top_5_highly_directors.primary_name.iloc[0])\n",
    "print('Veteran:', top_5_veteran_directors.primary_name.iloc[0])\n"
   ]
  },
  {
   "cell_type": "markdown",
   "metadata": {},
   "source": [
    "The top directors are shown in the graphs above, sorted by experience level and based on their movie ratings.\n",
    "\n",
    "Various factors can vary based on the directors' experience, such as:\n",
    "\n",
    "- salary\n",
    "- quality of movies\n",
    "- audience reception\n",
    "- production budgets\n",
    "- \n",
    "These graphs provide a comprehensive view of how directors' experience levels correlate with their average movie ratings, showcasing the impact of experience on their career achievements and industry recognition."
   ]
  },
  {
   "cell_type": "markdown",
   "metadata": {},
   "source": [
    "### (c). Best Rated writers"
   ]
  },
  {
   "cell_type": "markdown",
   "metadata": {},
   "source": [
    "#### i. Merge writers and ratings table"
   ]
  },
  {
   "cell_type": "code",
   "execution_count": 999,
   "metadata": {},
   "outputs": [
    {
     "data": {
      "text/html": [
       "<div>\n",
       "<style scoped>\n",
       "    .dataframe tbody tr th:only-of-type {\n",
       "        vertical-align: middle;\n",
       "    }\n",
       "\n",
       "    .dataframe tbody tr th {\n",
       "        vertical-align: top;\n",
       "    }\n",
       "\n",
       "    .dataframe thead th {\n",
       "        text-align: right;\n",
       "    }\n",
       "</style>\n",
       "<table border=\"1\" class=\"dataframe\">\n",
       "  <thead>\n",
       "    <tr style=\"text-align: right;\">\n",
       "      <th></th>\n",
       "      <th>movie_id</th>\n",
       "      <th>person_id</th>\n",
       "      <th>primary_name</th>\n",
       "      <th>birth_year</th>\n",
       "      <th>death_year</th>\n",
       "      <th>primary_profession</th>\n",
       "      <th>averagerating</th>\n",
       "      <th>numvotes</th>\n",
       "    </tr>\n",
       "  </thead>\n",
       "  <tbody>\n",
       "    <tr>\n",
       "      <th>0</th>\n",
       "      <td>tt0285252</td>\n",
       "      <td>nm0899854</td>\n",
       "      <td>Tony Vitale</td>\n",
       "      <td>1964</td>\n",
       "      <td>0</td>\n",
       "      <td>producer,director,writer</td>\n",
       "      <td>4</td>\n",
       "      <td>219</td>\n",
       "    </tr>\n",
       "    <tr>\n",
       "      <th>1</th>\n",
       "      <td>tt0462036</td>\n",
       "      <td>nm1940585</td>\n",
       "      <td>Bill Haley</td>\n",
       "      <td>0</td>\n",
       "      <td>0</td>\n",
       "      <td>director,writer,producer</td>\n",
       "      <td>6</td>\n",
       "      <td>18</td>\n",
       "    </tr>\n",
       "    <tr>\n",
       "      <th>2</th>\n",
       "      <td>tt0835418</td>\n",
       "      <td>nm0310087</td>\n",
       "      <td>Peter Gaulke</td>\n",
       "      <td>0</td>\n",
       "      <td>0</td>\n",
       "      <td>writer,actor,director</td>\n",
       "      <td>5</td>\n",
       "      <td>8147</td>\n",
       "    </tr>\n",
       "    <tr>\n",
       "      <th>3</th>\n",
       "      <td>tt0835418</td>\n",
       "      <td>nm0841532</td>\n",
       "      <td>Gerry Swallow</td>\n",
       "      <td>0</td>\n",
       "      <td>0</td>\n",
       "      <td>writer,actor,miscellaneous</td>\n",
       "      <td>5</td>\n",
       "      <td>8147</td>\n",
       "    </tr>\n",
       "    <tr>\n",
       "      <th>4</th>\n",
       "      <td>tt0878654</td>\n",
       "      <td>nm0284943</td>\n",
       "      <td>Randall Fontana</td>\n",
       "      <td>0</td>\n",
       "      <td>0</td>\n",
       "      <td>writer,director,actor</td>\n",
       "      <td>6</td>\n",
       "      <td>875</td>\n",
       "    </tr>\n",
       "  </tbody>\n",
       "</table>\n",
       "</div>"
      ],
      "text/plain": [
       "    movie_id  person_id     primary_name  birth_year  death_year  \\\n",
       "0  tt0285252  nm0899854      Tony Vitale        1964           0   \n",
       "1  tt0462036  nm1940585       Bill Haley           0           0   \n",
       "2  tt0835418  nm0310087     Peter Gaulke           0           0   \n",
       "3  tt0835418  nm0841532    Gerry Swallow           0           0   \n",
       "4  tt0878654  nm0284943  Randall Fontana           0           0   \n",
       "\n",
       "           primary_profession  averagerating  numvotes  \n",
       "0    producer,director,writer              4       219  \n",
       "1    director,writer,producer              6        18  \n",
       "2       writer,actor,director              5      8147  \n",
       "3  writer,actor,miscellaneous              5      8147  \n",
       "4       writer,director,actor              6       875  "
      ]
     },
     "execution_count": 999,
     "metadata": {},
     "output_type": "execute_result"
    }
   ],
   "source": [
    "# merging writers and movie ratings\n",
    "writer_ratings = writers.merge(\n",
    "    movie_ratings,\n",
    "    on='movie_id',\n",
    "    how='inner'\n",
    ")\n",
    "writer_ratings.head()"
   ]
  },
  {
   "cell_type": "markdown",
   "metadata": {},
   "source": [
    "#### ii. Remove dead writers"
   ]
  },
  {
   "cell_type": "code",
   "execution_count": 1001,
   "metadata": {},
   "outputs": [
    {
     "data": {
      "text/plain": [
       "death_year\n",
       "0    109319\n",
       "Name: count, dtype: int64"
      ]
     },
     "execution_count": 1001,
     "metadata": {},
     "output_type": "execute_result"
    }
   ],
   "source": [
    "writer_ratings = writer_ratings.loc[\n",
    "    writer_ratings.death_year == 0\n",
    "]\n",
    "\n",
    "# check the death year collumn\n",
    "writer_ratings.death_year.value_counts()"
   ]
  },
  {
   "cell_type": "markdown",
   "metadata": {},
   "source": [
    "#### iii. Get movies count for each writer"
   ]
  },
  {
   "cell_type": "code",
   "execution_count": 1002,
   "metadata": {},
   "outputs": [
    {
     "name": "stdout",
     "output_type": "stream",
     "text": [
      "Highest movie count: 40\n",
      "Lowest movie count: 1\n"
     ]
    },
    {
     "data": {
      "text/html": [
       "<div>\n",
       "<style scoped>\n",
       "    .dataframe tbody tr th:only-of-type {\n",
       "        vertical-align: middle;\n",
       "    }\n",
       "\n",
       "    .dataframe tbody tr th {\n",
       "        vertical-align: top;\n",
       "    }\n",
       "\n",
       "    .dataframe thead th {\n",
       "        text-align: right;\n",
       "    }\n",
       "</style>\n",
       "<table border=\"1\" class=\"dataframe\">\n",
       "  <thead>\n",
       "    <tr style=\"text-align: right;\">\n",
       "      <th></th>\n",
       "      <th>person_id</th>\n",
       "      <th>moviecount</th>\n",
       "      <th>experience</th>\n",
       "    </tr>\n",
       "  </thead>\n",
       "  <tbody>\n",
       "    <tr>\n",
       "      <th>0</th>\n",
       "      <td>nm5954636</td>\n",
       "      <td>40</td>\n",
       "      <td>veteran</td>\n",
       "    </tr>\n",
       "    <tr>\n",
       "      <th>1</th>\n",
       "      <td>nm3057599</td>\n",
       "      <td>32</td>\n",
       "      <td>veteran</td>\n",
       "    </tr>\n",
       "    <tr>\n",
       "      <th>2</th>\n",
       "      <td>nm3583561</td>\n",
       "      <td>32</td>\n",
       "      <td>veteran</td>\n",
       "    </tr>\n",
       "    <tr>\n",
       "      <th>3</th>\n",
       "      <td>nm0893128</td>\n",
       "      <td>32</td>\n",
       "      <td>veteran</td>\n",
       "    </tr>\n",
       "    <tr>\n",
       "      <th>4</th>\n",
       "      <td>nm0598531</td>\n",
       "      <td>32</td>\n",
       "      <td>veteran</td>\n",
       "    </tr>\n",
       "  </tbody>\n",
       "</table>\n",
       "</div>"
      ],
      "text/plain": [
       "   person_id  moviecount experience\n",
       "0  nm5954636          40    veteran\n",
       "1  nm3057599          32    veteran\n",
       "2  nm3583561          32    veteran\n",
       "3  nm0893128          32    veteran\n",
       "4  nm0598531          32    veteran"
      ]
     },
     "execution_count": 1002,
     "metadata": {},
     "output_type": "execute_result"
    }
   ],
   "source": [
    "writer_movie_count = writer_ratings.groupby(\n",
    "    ['person_id']\n",
    ").size().sort_values(ascending=False)\n",
    "\n",
    "# resetting the index and naming count column\n",
    "writer_movie_count = writer_movie_count.reset_index(name='moviecount')\n",
    "\n",
    "# Creating the experience column\n",
    "writer_movie_count['experience'] = writer_movie_count.moviecount.map(\n",
    "    lambda x: set_experience(x)\n",
    ")\n",
    "\n",
    "print('Highest movie count:', writer_movie_count.moviecount.iloc[0])\n",
    "print('Lowest movie count:', writer_movie_count.moviecount.iloc[-1])\n",
    "\n",
    "writer_movie_count.head()"
   ]
  },
  {
   "cell_type": "markdown",
   "metadata": {},
   "source": [
    "#### iv. Getting average ratings of each writer"
   ]
  },
  {
   "cell_type": "code",
   "execution_count": 1004,
   "metadata": {},
   "outputs": [
    {
     "data": {
      "text/html": [
       "<div>\n",
       "<style scoped>\n",
       "    .dataframe tbody tr th:only-of-type {\n",
       "        vertical-align: middle;\n",
       "    }\n",
       "\n",
       "    .dataframe tbody tr th {\n",
       "        vertical-align: top;\n",
       "    }\n",
       "\n",
       "    .dataframe thead th {\n",
       "        text-align: right;\n",
       "    }\n",
       "</style>\n",
       "<table border=\"1\" class=\"dataframe\">\n",
       "  <thead>\n",
       "    <tr style=\"text-align: right;\">\n",
       "      <th></th>\n",
       "      <th>person_id</th>\n",
       "      <th>primary_name</th>\n",
       "      <th>averagerating</th>\n",
       "      <th>numvotes</th>\n",
       "    </tr>\n",
       "  </thead>\n",
       "  <tbody>\n",
       "    <tr>\n",
       "      <th>0</th>\n",
       "      <td>nm0000092</td>\n",
       "      <td>John Cleese</td>\n",
       "      <td>7</td>\n",
       "      <td>89365</td>\n",
       "    </tr>\n",
       "    <tr>\n",
       "      <th>1</th>\n",
       "      <td>nm0000095</td>\n",
       "      <td>Woody Allen</td>\n",
       "      <td>7</td>\n",
       "      <td>106068</td>\n",
       "    </tr>\n",
       "    <tr>\n",
       "      <th>2</th>\n",
       "      <td>nm0000101</td>\n",
       "      <td>Dan Aykroyd</td>\n",
       "      <td>5</td>\n",
       "      <td>186788</td>\n",
       "    </tr>\n",
       "    <tr>\n",
       "      <th>3</th>\n",
       "      <td>nm0000108</td>\n",
       "      <td>Luc Besson</td>\n",
       "      <td>6</td>\n",
       "      <td>87080</td>\n",
       "    </tr>\n",
       "    <tr>\n",
       "      <th>4</th>\n",
       "      <td>nm0000116</td>\n",
       "      <td>James Cameron</td>\n",
       "      <td>7</td>\n",
       "      <td>161411</td>\n",
       "    </tr>\n",
       "  </tbody>\n",
       "</table>\n",
       "</div>"
      ],
      "text/plain": [
       "   person_id   primary_name  averagerating  numvotes\n",
       "0  nm0000092    John Cleese              7     89365\n",
       "1  nm0000095    Woody Allen              7    106068\n",
       "2  nm0000101    Dan Aykroyd              5    186788\n",
       "3  nm0000108     Luc Besson              6     87080\n",
       "4  nm0000116  James Cameron              7    161411"
      ]
     },
     "execution_count": 1004,
     "metadata": {},
     "output_type": "execute_result"
    }
   ],
   "source": [
    "# grouping by the writers\n",
    "ratings_by_writers = writer_ratings.groupby(\n",
    "    ['person_id', 'primary_name']\n",
    ")[\n",
    "    ['averagerating', 'numvotes']\n",
    "].mean()\n",
    "\n",
    "# reseting the index\n",
    "ratings_by_writers.reset_index(inplace=True)\n",
    "\n",
    "\n",
    "ratings_by_writers.head()"
   ]
  },
  {
   "cell_type": "code",
   "execution_count": 1005,
   "metadata": {},
   "outputs": [
    {
     "data": {
      "text/html": [
       "<div>\n",
       "<style scoped>\n",
       "    .dataframe tbody tr th:only-of-type {\n",
       "        vertical-align: middle;\n",
       "    }\n",
       "\n",
       "    .dataframe tbody tr th {\n",
       "        vertical-align: top;\n",
       "    }\n",
       "\n",
       "    .dataframe thead th {\n",
       "        text-align: right;\n",
       "    }\n",
       "</style>\n",
       "<table border=\"1\" class=\"dataframe\">\n",
       "  <thead>\n",
       "    <tr style=\"text-align: right;\">\n",
       "      <th></th>\n",
       "      <th>person_id</th>\n",
       "      <th>primary_name</th>\n",
       "      <th>averagerating</th>\n",
       "      <th>numvotes</th>\n",
       "    </tr>\n",
       "  </thead>\n",
       "  <tbody>\n",
       "    <tr>\n",
       "      <th>63710</th>\n",
       "      <td>nm6680574</td>\n",
       "      <td>Brian Baucum</td>\n",
       "      <td>10</td>\n",
       "      <td>8</td>\n",
       "    </tr>\n",
       "    <tr>\n",
       "      <th>66116</th>\n",
       "      <td>nm7223265</td>\n",
       "      <td>Loreto Di Cesare</td>\n",
       "      <td>10</td>\n",
       "      <td>8</td>\n",
       "    </tr>\n",
       "    <tr>\n",
       "      <th>67762</th>\n",
       "      <td>nm7633303</td>\n",
       "      <td>Lindsay Thompson</td>\n",
       "      <td>10</td>\n",
       "      <td>7</td>\n",
       "    </tr>\n",
       "    <tr>\n",
       "      <th>71714</th>\n",
       "      <td>nm8791543</td>\n",
       "      <td>Emre Oran</td>\n",
       "      <td>10</td>\n",
       "      <td>6</td>\n",
       "    </tr>\n",
       "    <tr>\n",
       "      <th>15236</th>\n",
       "      <td>nm10616933</td>\n",
       "      <td>Ivana Diniz</td>\n",
       "      <td>10</td>\n",
       "      <td>5</td>\n",
       "    </tr>\n",
       "    <tr>\n",
       "      <th>...</th>\n",
       "      <td>...</td>\n",
       "      <td>...</td>\n",
       "      <td>...</td>\n",
       "      <td>...</td>\n",
       "    </tr>\n",
       "    <tr>\n",
       "      <th>71763</th>\n",
       "      <td>nm8809512</td>\n",
       "      <td>Erik Alarik</td>\n",
       "      <td>1</td>\n",
       "      <td>8</td>\n",
       "    </tr>\n",
       "    <tr>\n",
       "      <th>34829</th>\n",
       "      <td>nm2947112</td>\n",
       "      <td>Shinju Funabiki</td>\n",
       "      <td>1</td>\n",
       "      <td>6</td>\n",
       "    </tr>\n",
       "    <tr>\n",
       "      <th>60173</th>\n",
       "      <td>nm6008960</td>\n",
       "      <td>Eva Toulová</td>\n",
       "      <td>1</td>\n",
       "      <td>5</td>\n",
       "    </tr>\n",
       "    <tr>\n",
       "      <th>74437</th>\n",
       "      <td>nm9854007</td>\n",
       "      <td>Giueppe di Giorgio</td>\n",
       "      <td>1</td>\n",
       "      <td>5</td>\n",
       "    </tr>\n",
       "    <tr>\n",
       "      <th>74438</th>\n",
       "      <td>nm9854008</td>\n",
       "      <td>Roberto Attolini</td>\n",
       "      <td>1</td>\n",
       "      <td>5</td>\n",
       "    </tr>\n",
       "  </tbody>\n",
       "</table>\n",
       "<p>74705 rows × 4 columns</p>\n",
       "</div>"
      ],
      "text/plain": [
       "        person_id        primary_name  averagerating  numvotes\n",
       "63710   nm6680574        Brian Baucum             10         8\n",
       "66116   nm7223265    Loreto Di Cesare             10         8\n",
       "67762   nm7633303    Lindsay Thompson             10         7\n",
       "71714   nm8791543           Emre Oran             10         6\n",
       "15236  nm10616933         Ivana Diniz             10         5\n",
       "...           ...                 ...            ...       ...\n",
       "71763   nm8809512         Erik Alarik              1         8\n",
       "34829   nm2947112     Shinju Funabiki              1         6\n",
       "60173   nm6008960         Eva Toulová              1         5\n",
       "74437   nm9854007  Giueppe di Giorgio              1         5\n",
       "74438   nm9854008    Roberto Attolini              1         5\n",
       "\n",
       "[74705 rows x 4 columns]"
      ]
     },
     "execution_count": 1005,
     "metadata": {},
     "output_type": "execute_result"
    }
   ],
   "source": [
    "# rounding the ratings column\n",
    "ratings_by_writers.averagerating = ratings_by_writers.averagerating.round(\n",
    "    1)\n",
    "\n",
    "# convert votes to integers\n",
    "ratings_by_writers.numvotes = ratings_by_writers.numvotes.astype(int)\n",
    "\n",
    "# sorting\n",
    "ratings_by_writers.sort_values(\n",
    "    by=['averagerating', 'numvotes'],\n",
    "    ascending=False,\n",
    "    inplace=True\n",
    ")\n",
    "\n",
    "ratings_by_writers"
   ]
  },
  {
   "cell_type": "code",
   "execution_count": 1006,
   "metadata": {},
   "outputs": [
    {
     "name": "stdout",
     "output_type": "stream",
     "text": [
      "<class 'pandas.core.frame.DataFrame'>\n",
      "RangeIndex: 74705 entries, 0 to 74704\n",
      "Data columns (total 6 columns):\n",
      " #   Column         Non-Null Count  Dtype  \n",
      "---  ------         --------------  -----  \n",
      " 0   person_id      74705 non-null  object \n",
      " 1   primary_name   74705 non-null  object \n",
      " 2   averagerating  74705 non-null  float64\n",
      " 3   numvotes       74705 non-null  int32  \n",
      " 4   moviecount     74705 non-null  int64  \n",
      " 5   experience     74705 non-null  object \n",
      "dtypes: float64(1), int32(1), int64(1), object(3)\n",
      "memory usage: 3.1+ MB\n"
     ]
    }
   ],
   "source": [
    "# merging the ratings to include movies count\n",
    "ratings_by_writers = ratings_by_writers.merge(\n",
    "    writer_movie_count,\n",
    "    on='person_id',\n",
    "    how='inner'\n",
    ")\n",
    "\n",
    "ratings_by_writers.info()"
   ]
  },
  {
   "cell_type": "code",
   "execution_count": 1007,
   "metadata": {},
   "outputs": [
    {
     "data": {
      "text/html": [
       "<div>\n",
       "<style scoped>\n",
       "    .dataframe tbody tr th:only-of-type {\n",
       "        vertical-align: middle;\n",
       "    }\n",
       "\n",
       "    .dataframe tbody tr th {\n",
       "        vertical-align: top;\n",
       "    }\n",
       "\n",
       "    .dataframe thead th {\n",
       "        text-align: right;\n",
       "    }\n",
       "</style>\n",
       "<table border=\"1\" class=\"dataframe\">\n",
       "  <thead>\n",
       "    <tr style=\"text-align: right;\">\n",
       "      <th></th>\n",
       "      <th>person_id</th>\n",
       "      <th>primary_name</th>\n",
       "      <th>averagerating</th>\n",
       "      <th>numvotes</th>\n",
       "      <th>moviecount</th>\n",
       "      <th>experience</th>\n",
       "    </tr>\n",
       "  </thead>\n",
       "  <tbody>\n",
       "    <tr>\n",
       "      <th>0</th>\n",
       "      <td>nm6680574</td>\n",
       "      <td>Brian Baucum</td>\n",
       "      <td>10</td>\n",
       "      <td>8</td>\n",
       "      <td>1</td>\n",
       "      <td>beginner</td>\n",
       "    </tr>\n",
       "    <tr>\n",
       "      <th>1</th>\n",
       "      <td>nm7223265</td>\n",
       "      <td>Loreto Di Cesare</td>\n",
       "      <td>10</td>\n",
       "      <td>8</td>\n",
       "      <td>1</td>\n",
       "      <td>beginner</td>\n",
       "    </tr>\n",
       "    <tr>\n",
       "      <th>2</th>\n",
       "      <td>nm7633303</td>\n",
       "      <td>Lindsay Thompson</td>\n",
       "      <td>10</td>\n",
       "      <td>7</td>\n",
       "      <td>1</td>\n",
       "      <td>beginner</td>\n",
       "    </tr>\n",
       "    <tr>\n",
       "      <th>3</th>\n",
       "      <td>nm8791543</td>\n",
       "      <td>Emre Oran</td>\n",
       "      <td>10</td>\n",
       "      <td>6</td>\n",
       "      <td>1</td>\n",
       "      <td>beginner</td>\n",
       "    </tr>\n",
       "    <tr>\n",
       "      <th>4</th>\n",
       "      <td>nm10616933</td>\n",
       "      <td>Ivana Diniz</td>\n",
       "      <td>10</td>\n",
       "      <td>5</td>\n",
       "      <td>1</td>\n",
       "      <td>beginner</td>\n",
       "    </tr>\n",
       "    <tr>\n",
       "      <th>...</th>\n",
       "      <td>...</td>\n",
       "      <td>...</td>\n",
       "      <td>...</td>\n",
       "      <td>...</td>\n",
       "      <td>...</td>\n",
       "      <td>...</td>\n",
       "    </tr>\n",
       "    <tr>\n",
       "      <th>74700</th>\n",
       "      <td>nm8809512</td>\n",
       "      <td>Erik Alarik</td>\n",
       "      <td>1</td>\n",
       "      <td>8</td>\n",
       "      <td>1</td>\n",
       "      <td>beginner</td>\n",
       "    </tr>\n",
       "    <tr>\n",
       "      <th>74701</th>\n",
       "      <td>nm2947112</td>\n",
       "      <td>Shinju Funabiki</td>\n",
       "      <td>1</td>\n",
       "      <td>6</td>\n",
       "      <td>1</td>\n",
       "      <td>beginner</td>\n",
       "    </tr>\n",
       "    <tr>\n",
       "      <th>74702</th>\n",
       "      <td>nm6008960</td>\n",
       "      <td>Eva Toulová</td>\n",
       "      <td>1</td>\n",
       "      <td>5</td>\n",
       "      <td>1</td>\n",
       "      <td>beginner</td>\n",
       "    </tr>\n",
       "    <tr>\n",
       "      <th>74703</th>\n",
       "      <td>nm9854007</td>\n",
       "      <td>Giueppe di Giorgio</td>\n",
       "      <td>1</td>\n",
       "      <td>5</td>\n",
       "      <td>1</td>\n",
       "      <td>beginner</td>\n",
       "    </tr>\n",
       "    <tr>\n",
       "      <th>74704</th>\n",
       "      <td>nm9854008</td>\n",
       "      <td>Roberto Attolini</td>\n",
       "      <td>1</td>\n",
       "      <td>5</td>\n",
       "      <td>1</td>\n",
       "      <td>beginner</td>\n",
       "    </tr>\n",
       "  </tbody>\n",
       "</table>\n",
       "<p>74705 rows × 6 columns</p>\n",
       "</div>"
      ],
      "text/plain": [
       "        person_id        primary_name  averagerating  numvotes  moviecount  \\\n",
       "0       nm6680574        Brian Baucum             10         8           1   \n",
       "1       nm7223265    Loreto Di Cesare             10         8           1   \n",
       "2       nm7633303    Lindsay Thompson             10         7           1   \n",
       "3       nm8791543           Emre Oran             10         6           1   \n",
       "4      nm10616933         Ivana Diniz             10         5           1   \n",
       "...           ...                 ...            ...       ...         ...   \n",
       "74700   nm8809512         Erik Alarik              1         8           1   \n",
       "74701   nm2947112     Shinju Funabiki              1         6           1   \n",
       "74702   nm6008960         Eva Toulová              1         5           1   \n",
       "74703   nm9854007  Giueppe di Giorgio              1         5           1   \n",
       "74704   nm9854008    Roberto Attolini              1         5           1   \n",
       "\n",
       "      experience  \n",
       "0       beginner  \n",
       "1       beginner  \n",
       "2       beginner  \n",
       "3       beginner  \n",
       "4       beginner  \n",
       "...          ...  \n",
       "74700   beginner  \n",
       "74701   beginner  \n",
       "74702   beginner  \n",
       "74703   beginner  \n",
       "74704   beginner  \n",
       "\n",
       "[74705 rows x 6 columns]"
      ]
     },
     "execution_count": 1007,
     "metadata": {},
     "output_type": "execute_result"
    }
   ],
   "source": [
    "# change data type of moviecount column\n",
    "ratings_by_writers.moviecount = ratings_by_writers.moviecount.astype(\n",
    "    'Int32')\n",
    "# include sorting by movie count\n",
    "ratings_by_writers.sort_values(\n",
    "    by=['averagerating', 'moviecount', 'numvotes'],\n",
    "    ascending=False,\n",
    "    inplace=True\n",
    ")\n",
    "\n",
    "ratings_by_writers"
   ]
  },
  {
   "cell_type": "code",
   "execution_count": 1008,
   "metadata": {},
   "outputs": [],
   "source": [
    "# top 5 beginner ditectors\n",
    "top_5_beginner_writers = ratings_by_writers.loc[\n",
    "    ratings_by_writers.experience == 'beginner'\n",
    "][:5]\n",
    "\n",
    "# top 5 intermediate ditectors\n",
    "top_5_intermediate_writers = ratings_by_writers.loc[\n",
    "    ratings_by_writers.experience == 'intermediate'\n",
    "][:5]\n",
    "\n",
    "# top 5 experienced ditectors\n",
    "top_5_experienced_writers = ratings_by_writers.loc[\n",
    "    ratings_by_writers.experience == 'experienced'\n",
    "][:5]\n",
    "\n",
    "# top 5 highly experienced ditectors\n",
    "top_5_highly_writers = ratings_by_writers.loc[\n",
    "    ratings_by_writers.experience == 'highly experienced'\n",
    "][:5]\n",
    "\n",
    "# top 5 veteran ditectors\n",
    "top_5_veteran_writers = ratings_by_writers.loc[\n",
    "    ratings_by_writers.experience == 'veteran'\n",
    "][:5]"
   ]
  },
  {
   "cell_type": "code",
   "execution_count": 1010,
   "metadata": {},
   "outputs": [
    {
     "data": {
      "image/png": "[encoded data removed]",
      "text/plain": [
       "<Figure size 700x2500 with 5 Axes>"
      ]
     },
     "metadata": {},
     "output_type": "display_data"
    }
   ],
   "source": [
    "# create figure and axes\n",
    "fig, axes = plt.subplots(nrows=5, figsize=(7, 25))\n",
    "\n",
    "# list of all dataframes\n",
    "data_list = [\n",
    "    top_5_beginner_writers,\n",
    "    top_5_intermediate_writers,\n",
    "    top_5_experienced_writers,\n",
    "    top_5_highly_writers,\n",
    "    top_5_veteran_writers\n",
    "]\n",
    "\n",
    "# plotting the data\n",
    "for i, data in enumerate(data_list):\n",
    "    sns.barplot(\n",
    "        data=data,\n",
    "        x='averagerating',\n",
    "        y='primary_name',\n",
    "        ax=axes[i]\n",
    "    )\n",
    "    # including the number of votes and movie count\n",
    "    n = 0\n",
    "    for p in axes[i].patches:\n",
    "        # labelling the rating\n",
    "        axes[i].annotate(\n",
    "            f'{p.get_width():.2f}',\n",
    "            (p.get_width() + .25, p.get_y() + p.get_height()),\n",
    "            ha='center', va='center',\n",
    "            xytext=(0, 9),\n",
    "            textcoords='offset points'\n",
    "        )\n",
    "        # labelling the number of votes\n",
    "        axes[i].annotate(\n",
    "            f'{data.moviecount.iloc[n]} movie(s), {data.numvotes.iloc[n]} votes',\n",
    "            (p.get_width() / 2., p.get_y() + p.get_height()),\n",
    "            ha='center', va='center',\n",
    "            xytext=(0, 9),\n",
    "            textcoords='offset points'\n",
    "        )\n",
    "        n += 1\n",
    "\n",
    "    # labeling axes\n",
    "    axes[i].set_title(f'Top 5 {data.experience.iloc[i]} writers')\n",
    "    axes[i].set_xlabel('Average Rating')\n",
    "    axes[i].set_ylabel('Writer Name')\n",
    "    axes[i].set_xlim(0, 10)"
   ]
  },
  {
   "cell_type": "code",
   "execution_count": 1011,
   "metadata": {},
   "outputs": [
    {
     "name": "stdout",
     "output_type": "stream",
     "text": [
      "Top Writer in each experience category:\n",
      "Beginner: Brian Baucum\n",
      "Intermediate: Zeljko Luketic\n",
      "Experienced: Tom Logan\n",
      "Highly Experienced: Aaron Cohen\n",
      "Veteran: Larry Rosen\n"
     ]
    }
   ],
   "source": [
    "# top writer in each experience category\n",
    "print('Top Writer in each experience category:')\n",
    "print('Beginner:', top_5_beginner_writers.primary_name.iloc[0])\n",
    "print('Intermediate:', top_5_intermediate_writers.primary_name.iloc[0])\n",
    "print('Experienced:', top_5_experienced_writers.primary_name.iloc[0])\n",
    "print('Highly Experienced:', top_5_highly_writers.primary_name.iloc[0])\n",
    "print('Veteran:', top_5_veteran_writers.primary_name.iloc[0])"
   ]
  },
  {
   "cell_type": "markdown",
   "metadata": {},
   "source": [
    "graphs showing the top writers according to their movie ratings, further divided into categories based on their experience levels. There are a number of variables that can change depending on the writers' experience, including: \n",
    "- salary;\n",
    "- the calibre of their scripts;\n",
    " - the reception from audiences; \n",
    "- production budgets.\n",
    " Newer writers may have less resources and a lower salary, but as their experience grows, they tend to write better scripts, get higher ratings from audiences, and command higher salaries. Experienced writers, who have a lot of work under their belts, frequently have established reputations that enable them to secure larger budgets and draw in top talent, further improving the calibre and success of the films they do."
   ]
  },
  {
   "cell_type": "markdown",
   "metadata": {},
   "source": [
    "# Recommendation"
   ]
  },
  {
   "cell_type": "markdown",
   "metadata": {},
   "source": [
    "## 1. Acquiring talent\n",
    "- The company has the ability to work with exceptionally skilled writers and directors connected to highly acclaimed movies. The best writers and directors for each experience level have been determined by the analysis. It's crucial to weigh the trade-offs, though, as seasoned experts could have higher expenses despite their potential for success and recognition. Less seasoned workers, on the other hand, might provide new insights and a more affordable option, but they also carry a greater chance of failure."
   ]
  },
  {
   "cell_type": "markdown",
   "metadata": {},
   "source": [
    "## 2. Gaining knowledge from renowned studios.\n",
    "-It's critical to imitate the business models of successful studios, like BV Studios, Warner Bros., and Fox Studios. Examine their methods for finding talent, choosing genres, marketing, and distribution in order to implement the best strategies that have continuously led to their success.\n"
   ]
  },
  {
   "cell_type": "code",
   "execution_count": null,
   "metadata": {},
   "outputs": [],
   "source": []
  }
 ],
 "metadata": {
  "kernelspec": {
   "display_name": "Python 3 (ipykernel)",
   "language": "python",
   "name": "python3"
  },
  "language_info": {
   "codemirror_mode": {
    "name": "ipython",
    "version": 3
   },
   "file_extension": ".py",
   "mimetype": "text/x-python",
   "name": "python",
   "nbconvert_exporter": "python",
   "pygments_lexer": "ipython3",
   "version": "3.11.7"
  }
 },
 "nbformat": 4,
 "nbformat_minor": 4
}
